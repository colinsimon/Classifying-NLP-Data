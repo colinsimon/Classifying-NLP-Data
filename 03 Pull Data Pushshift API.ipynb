{
 "cells": [
  {
   "cell_type": "markdown",
   "metadata": {},
   "source": [
    "# Pushshift API Data Gathering"
   ]
  },
  {
   "cell_type": "markdown",
   "metadata": {},
   "source": [
    "#### Table of Contents\n",
    "- [1. Imports](#1.-Imports)\n",
    "- [2. Gather data from r/frugal](#2.-Gather-data-from-r/frugal)\n",
    "- [3. Gather data from r/investing](#3.-Gather-data-from-r/investing)\n",
    "- [4. Old Sections](#4.-Old-Sections)"
   ]
  },
  {
   "cell_type": "markdown",
   "metadata": {},
   "source": [
    "## 1. Imports"
   ]
  },
  {
   "cell_type": "code",
   "execution_count": 192,
   "metadata": {},
   "outputs": [],
   "source": [
    "import requests\n",
    "import pandas as pd\n",
    "import numpy as np\n",
    "import time\n",
    "import os"
   ]
  },
  {
   "cell_type": "code",
   "execution_count": 5,
   "metadata": {},
   "outputs": [],
   "source": [
    "url = 'https://api.pushshift.io/reddit/search/submission'"
   ]
  },
  {
   "cell_type": "code",
   "execution_count": 135,
   "metadata": {},
   "outputs": [
    {
     "name": "stdout",
     "output_type": "stream",
     "text": [
      "1587537633\n",
      "1587536154\n",
      "1586276856\n"
     ]
    }
   ],
   "source": [
    "# initial times\n",
    "print(posts[0]['created_utc'])\n",
    "print(posts[1]['created_utc'])\n",
    "print(posts[499]['created_utc'])\n",
    "# last_time = posts[499]['created_utc']"
   ]
  },
  {
   "cell_type": "code",
   "execution_count": 106,
   "metadata": {},
   "outputs": [],
   "source": [
    "start_time = 1587537633"
   ]
  },
  {
   "cell_type": "markdown",
   "metadata": {},
   "source": [
    "## 2. Gather data from r/frugal"
   ]
  },
  {
   "cell_type": "code",
   "execution_count": 219,
   "metadata": {},
   "outputs": [],
   "source": [
    "# iteration concept, time code setup, and paramater setup from Tim Book (OH)\n",
    "# rest of function my own(unless noted)\n",
    "def gather_posts_fru(subreddit, rounds):\n",
    "    counter = 0\n",
    "    keepers_df = []\n",
    "    begin_time = 1587536154 # UTC time code for first reddit post\n",
    "    \n",
    "    for each in range(rounds):\n",
    "        res = requests.get(url,\n",
    "                          params={\n",
    "                              'subreddit': subreddit,\n",
    "                              'size': 1000,\n",
    "                              'lang': True,\n",
    "                              'before': begin_time\n",
    "                          })\n",
    "        keepers = pd.DataFrame(res.json()['data'])\n",
    "        keepers = keepers.loc[:, ['created_utc','id','score', 'title', 'selftext', 'full_link']]\n",
    "        keepers['subreddit'] = 'frugal'\n",
    "        keepers['submission'] = 1\n",
    "        begin_time = keepers.created_utc.min()\n",
    "        keepers_df.append(keepers)\n",
    "        counter += 1\n",
    "    \n",
    "    # if loop from stackoverflow.com: https://stackoverflow.com/questions/30991541/pandas-write-csv-append-vs-write/30991707\n",
    "    # concatenate part my own\n",
    "    if not os.path.isfile('frugal_2.csv'): \n",
    "        pd.concat(keepers_df, axis=0).to_csv('frugal_2.csv', header='column_names')\n",
    "    else:\n",
    "        pd.concat(keepers_df, axis=0).to_csv('frugal_2.csv', mode='a', header=False)\n",
    "    print(f'loops ran: {counter}') #"
   ]
  },
  {
   "cell_type": "code",
   "execution_count": 221,
   "metadata": {
    "scrolled": true
   },
   "outputs": [
    {
     "name": "stdout",
     "output_type": "stream",
     "text": [
      "loops ran: 100\n",
      "CPU times: user 10.4 s, sys: 960 ms, total: 11.4 s\n",
      "Wall time: 3min 9s\n"
     ]
    }
   ],
   "source": [
    "%%time\n",
    "gather_posts_fru('frugal', 100)"
   ]
  },
  {
   "cell_type": "markdown",
   "metadata": {},
   "source": [
    "## 3. Gather data from r/investing"
   ]
  },
  {
   "cell_type": "code",
   "execution_count": 215,
   "metadata": {},
   "outputs": [],
   "source": [
    "# iteration concept, time code setup, and paramater setup from Tim Book (OH)\n",
    "# rest of function my own(unless noted)\n",
    "def gather_posts_inv(subreddit, rounds):\n",
    "    counter = 0\n",
    "    keepers_df = []\n",
    "    begin_time = 1587536154 # UTC time code for first reddit post\n",
    "    \n",
    "    for each in range(rounds):\n",
    "        res = requests.get(url,\n",
    "                          params={\n",
    "                              'subreddit': subreddit,\n",
    "                              'size': 1000,\n",
    "                              'lang': True,\n",
    "                              'before': begin_time\n",
    "                          })\n",
    "        keepers = pd.DataFrame(res.json()['data'])\n",
    "        keepers = keepers.loc[:, ['created_utc','id','score', 'title', 'selftext', 'full_link']]\n",
    "        keepers['subreddit'] = 'investing'\n",
    "        keepers['submission'] = 1\n",
    "        begin_time = keepers.created_utc.min()\n",
    "        keepers_df.append(keepers)\n",
    "        counter += 1\n",
    "    \n",
    "    # if loop from stackoverflow.com: https://stackoverflow.com/questions/30991541/pandas-write-csv-append-vs-write/30991707\n",
    "    # concatenate part my own\n",
    "    if not os.path.isfile('investing_2.csv'): \n",
    "        pd.concat(keepers_df, axis=0).to_csv('investing_2.csv', header='column_names')\n",
    "    else:\n",
    "        pd.concat(keepers_df, axis=0).to_csv('investing_2.csv', mode='a', header=False)\n",
    "    print(f'loops ran: {counter}')"
   ]
  },
  {
   "cell_type": "code",
   "execution_count": 218,
   "metadata": {},
   "outputs": [
    {
     "name": "stdout",
     "output_type": "stream",
     "text": [
      "loops ran: 100\n",
      "CPU times: user 11.5 s, sys: 1.15 s, total: 12.7 s\n",
      "Wall time: 3min\n"
     ]
    }
   ],
   "source": [
    "%%time\n",
    "gather_posts_inv('investing', 100)"
   ]
  },
  {
   "cell_type": "markdown",
   "metadata": {},
   "source": [
    "## 4. Old sections\n",
    "- Did use to find newest 'created_utc' timestamp"
   ]
  },
  {
   "cell_type": "code",
   "execution_count": 184,
   "metadata": {
    "scrolled": false
   },
   "outputs": [
    {
     "data": {
      "text/html": [
       "<div>\n",
       "<style scoped>\n",
       "    .dataframe tbody tr th:only-of-type {\n",
       "        vertical-align: middle;\n",
       "    }\n",
       "\n",
       "    .dataframe tbody tr th {\n",
       "        vertical-align: top;\n",
       "    }\n",
       "\n",
       "    .dataframe thead th {\n",
       "        text-align: right;\n",
       "    }\n",
       "</style>\n",
       "<table border=\"1\" class=\"dataframe\">\n",
       "  <thead>\n",
       "    <tr style=\"text-align: right;\">\n",
       "      <th></th>\n",
       "      <th>created_utc</th>\n",
       "      <th>id</th>\n",
       "      <th>title</th>\n",
       "      <th>selftext</th>\n",
       "      <th>full_link</th>\n",
       "      <th>subreddit</th>\n",
       "      <th>submission</th>\n",
       "    </tr>\n",
       "  </thead>\n",
       "  <tbody>\n",
       "    <tr>\n",
       "      <th>0</th>\n",
       "      <td>1587535755</td>\n",
       "      <td>g5vu8v</td>\n",
       "      <td>Effortless Self-help Alternatives That Basical...</td>\n",
       "      <td></td>\n",
       "      <td>https://www.reddit.com/r/url/comments/g5vu8v/e...</td>\n",
       "      <td>frugal</td>\n",
       "      <td>1</td>\n",
       "    </tr>\n",
       "    <tr>\n",
       "      <th>1</th>\n",
       "      <td>1587535473</td>\n",
       "      <td>g5vs9y</td>\n",
       "      <td>Nutricionista Online</td>\n",
       "      <td></td>\n",
       "      <td>https://www.reddit.com/r/url/comments/g5vs9y/n...</td>\n",
       "      <td>frugal</td>\n",
       "      <td>1</td>\n",
       "    </tr>\n",
       "    <tr>\n",
       "      <th>2</th>\n",
       "      <td>1587535319</td>\n",
       "      <td>g5vr74</td>\n",
       "      <td>Aweber Tutorials</td>\n",
       "      <td></td>\n",
       "      <td>https://www.reddit.com/r/url/comments/g5vr74/a...</td>\n",
       "      <td>frugal</td>\n",
       "      <td>1</td>\n",
       "    </tr>\n",
       "    <tr>\n",
       "      <th>3</th>\n",
       "      <td>1587535222</td>\n",
       "      <td>g5vqi2</td>\n",
       "      <td>WorldWide Domain for sale!</td>\n",
       "      <td>[removed]</td>\n",
       "      <td>https://www.reddit.com/r/Domain/comments/g5vqi...</td>\n",
       "      <td>frugal</td>\n",
       "      <td>1</td>\n",
       "    </tr>\n",
       "    <tr>\n",
       "      <th>4</th>\n",
       "      <td>1587534766</td>\n",
       "      <td>g5vnf3</td>\n",
       "      <td>The Ultimate Guide to Affiliate Marketing: Qui...</td>\n",
       "      <td></td>\n",
       "      <td>https://www.reddit.com/r/url/comments/g5vnf3/t...</td>\n",
       "      <td>frugal</td>\n",
       "      <td>1</td>\n",
       "    </tr>\n",
       "  </tbody>\n",
       "</table>\n",
       "</div>"
      ],
      "text/plain": [
       "   created_utc      id                                              title  \\\n",
       "0   1587535755  g5vu8v  Effortless Self-help Alternatives That Basical...   \n",
       "1   1587535473  g5vs9y                               Nutricionista Online   \n",
       "2   1587535319  g5vr74                                   Aweber Tutorials   \n",
       "3   1587535222  g5vqi2                         WorldWide Domain for sale!   \n",
       "4   1587534766  g5vnf3  The Ultimate Guide to Affiliate Marketing: Qui...   \n",
       "\n",
       "    selftext                                          full_link subreddit  \\\n",
       "0             https://www.reddit.com/r/url/comments/g5vu8v/e...    frugal   \n",
       "1             https://www.reddit.com/r/url/comments/g5vs9y/n...    frugal   \n",
       "2             https://www.reddit.com/r/url/comments/g5vr74/a...    frugal   \n",
       "3  [removed]  https://www.reddit.com/r/Domain/comments/g5vqi...    frugal   \n",
       "4             https://www.reddit.com/r/url/comments/g5vnf3/t...    frugal   \n",
       "\n",
       "   submission  \n",
       "0           1  \n",
       "1           1  \n",
       "2           1  \n",
       "3           1  \n",
       "4           1  "
      ]
     },
     "execution_count": 184,
     "metadata": {},
     "output_type": "execute_result"
    }
   ],
   "source": [
    "frugal3.head()"
   ]
  },
  {
   "cell_type": "code",
   "execution_count": 114,
   "metadata": {},
   "outputs": [
    {
     "data": {
      "text/html": [
       "<div>\n",
       "<style scoped>\n",
       "    .dataframe tbody tr th:only-of-type {\n",
       "        vertical-align: middle;\n",
       "    }\n",
       "\n",
       "    .dataframe tbody tr th {\n",
       "        vertical-align: top;\n",
       "    }\n",
       "\n",
       "    .dataframe thead th {\n",
       "        text-align: right;\n",
       "    }\n",
       "</style>\n",
       "<table border=\"1\" class=\"dataframe\">\n",
       "  <thead>\n",
       "    <tr style=\"text-align: right;\">\n",
       "      <th></th>\n",
       "      <th>subreddit</th>\n",
       "      <th>submission</th>\n",
       "      <th>id</th>\n",
       "      <th>created_utc</th>\n",
       "      <th>text</th>\n",
       "      <th>title</th>\n",
       "      <th>score</th>\n",
       "      <th>link</th>\n",
       "    </tr>\n",
       "  </thead>\n",
       "  <tbody>\n",
       "    <tr>\n",
       "      <th>0</th>\n",
       "      <td>Frugal</td>\n",
       "      <td>1</td>\n",
       "      <td>g5uy8g</td>\n",
       "      <td>1587531253</td>\n",
       "      <td>I work as a software developer, but I have alw...</td>\n",
       "      <td>If you are a frugal entrepreneur and small bus...</td>\n",
       "      <td>1</td>\n",
       "      <td>https://www.reddit.com/r/Frugal/comments/g5uy8...</td>\n",
       "    </tr>\n",
       "    <tr>\n",
       "      <th>1</th>\n",
       "      <td>Frugal</td>\n",
       "      <td>1</td>\n",
       "      <td>g5uob9</td>\n",
       "      <td>1587529942</td>\n",
       "      <td>[Food Baby · foodbaby.app](https://web.foodbab...</td>\n",
       "      <td>Food Baby - App to find cheap, nutritious food...</td>\n",
       "      <td>1</td>\n",
       "      <td>https://www.reddit.com/r/Frugal/comments/g5uob...</td>\n",
       "    </tr>\n",
       "    <tr>\n",
       "      <th>2</th>\n",
       "      <td>Frugal</td>\n",
       "      <td>1</td>\n",
       "      <td>g5u71u</td>\n",
       "      <td>1587527758</td>\n",
       "      <td></td>\n",
       "      <td>$70 Greenhouse</td>\n",
       "      <td>1</td>\n",
       "      <td>https://www.reddit.com/r/Frugal/comments/g5u71...</td>\n",
       "    </tr>\n",
       "    <tr>\n",
       "      <th>3</th>\n",
       "      <td>Frugal</td>\n",
       "      <td>1</td>\n",
       "      <td>g5tx48</td>\n",
       "      <td>1587526543</td>\n",
       "      <td></td>\n",
       "      <td>Never buying bread again. I realized I can bak...</td>\n",
       "      <td>1</td>\n",
       "      <td>https://www.reddit.com/r/Frugal/comments/g5tx4...</td>\n",
       "    </tr>\n",
       "    <tr>\n",
       "      <th>4</th>\n",
       "      <td>Frugal</td>\n",
       "      <td>1</td>\n",
       "      <td>g5tefs</td>\n",
       "      <td>1587524345</td>\n",
       "      <td></td>\n",
       "      <td>Make your grocery store croissants bakery qual...</td>\n",
       "      <td>1</td>\n",
       "      <td>https://www.reddit.com/r/Frugal/comments/g5tef...</td>\n",
       "    </tr>\n",
       "    <tr>\n",
       "      <th>...</th>\n",
       "      <td>...</td>\n",
       "      <td>...</td>\n",
       "      <td>...</td>\n",
       "      <td>...</td>\n",
       "      <td>...</td>\n",
       "      <td>...</td>\n",
       "      <td>...</td>\n",
       "      <td>...</td>\n",
       "    </tr>\n",
       "    <tr>\n",
       "      <th>495</th>\n",
       "      <td>Frugal</td>\n",
       "      <td>1</td>\n",
       "      <td>fwoumk</td>\n",
       "      <td>1586281189</td>\n",
       "      <td>I work in the chicken industry, as a flock sup...</td>\n",
       "      <td>How to preserve mass quantities of chicken?</td>\n",
       "      <td>1</td>\n",
       "      <td>https://www.reddit.com/r/Frugal/comments/fwoum...</td>\n",
       "    </tr>\n",
       "    <tr>\n",
       "      <th>496</th>\n",
       "      <td>Frugal</td>\n",
       "      <td>1</td>\n",
       "      <td>fwoabq</td>\n",
       "      <td>1586279411</td>\n",
       "      <td>[removed]</td>\n",
       "      <td>Up To $1975 In Free Cash, Stock &amp;amp; Bitcoin ...</td>\n",
       "      <td>1</td>\n",
       "      <td>https://www.reddit.com/r/Frugal/comments/fwoab...</td>\n",
       "    </tr>\n",
       "    <tr>\n",
       "      <th>497</th>\n",
       "      <td>Frugal</td>\n",
       "      <td>1</td>\n",
       "      <td>fwni62</td>\n",
       "      <td>1586276856</td>\n",
       "      <td></td>\n",
       "      <td>When you're too frugal to spend $50 on a Chemex</td>\n",
       "      <td>1</td>\n",
       "      <td>https://www.reddit.com/r/Frugal/comments/fwni6...</td>\n",
       "    </tr>\n",
       "    <tr>\n",
       "      <th>498</th>\n",
       "      <td>Frugal</td>\n",
       "      <td>1</td>\n",
       "      <td>fwmwpn</td>\n",
       "      <td>1586274906</td>\n",
       "      <td>Found out today you can get amazon prime for $...</td>\n",
       "      <td>Amazon prime for $5.99 w/ EBT or Medicaid</td>\n",
       "      <td>3</td>\n",
       "      <td>https://www.reddit.com/r/Frugal/comments/fwmwp...</td>\n",
       "    </tr>\n",
       "    <tr>\n",
       "      <th>499</th>\n",
       "      <td>Frugal</td>\n",
       "      <td>1</td>\n",
       "      <td>fwmvqd</td>\n",
       "      <td>1586274810</td>\n",
       "      <td>I'm looking for an air purifier that borders o...</td>\n",
       "      <td>Air filter/Air cleaner recommendations</td>\n",
       "      <td>2</td>\n",
       "      <td>https://www.reddit.com/r/Frugal/comments/fwmvq...</td>\n",
       "    </tr>\n",
       "  </tbody>\n",
       "</table>\n",
       "<p>500 rows × 8 columns</p>\n",
       "</div>"
      ],
      "text/plain": [
       "    subreddit  submission      id  created_utc  \\\n",
       "0      Frugal           1  g5uy8g   1587531253   \n",
       "1      Frugal           1  g5uob9   1587529942   \n",
       "2      Frugal           1  g5u71u   1587527758   \n",
       "3      Frugal           1  g5tx48   1587526543   \n",
       "4      Frugal           1  g5tefs   1587524345   \n",
       "..        ...         ...     ...          ...   \n",
       "495    Frugal           1  fwoumk   1586281189   \n",
       "496    Frugal           1  fwoabq   1586279411   \n",
       "497    Frugal           1  fwni62   1586276856   \n",
       "498    Frugal           1  fwmwpn   1586274906   \n",
       "499    Frugal           1  fwmvqd   1586274810   \n",
       "\n",
       "                                                  text  \\\n",
       "0    I work as a software developer, but I have alw...   \n",
       "1    [Food Baby · foodbaby.app](https://web.foodbab...   \n",
       "2                                                        \n",
       "3                                                        \n",
       "4                                                        \n",
       "..                                                 ...   \n",
       "495  I work in the chicken industry, as a flock sup...   \n",
       "496                                          [removed]   \n",
       "497                                                      \n",
       "498  Found out today you can get amazon prime for $...   \n",
       "499  I'm looking for an air purifier that borders o...   \n",
       "\n",
       "                                                 title  score  \\\n",
       "0    If you are a frugal entrepreneur and small bus...      1   \n",
       "1    Food Baby - App to find cheap, nutritious food...      1   \n",
       "2                                       $70 Greenhouse      1   \n",
       "3    Never buying bread again. I realized I can bak...      1   \n",
       "4    Make your grocery store croissants bakery qual...      1   \n",
       "..                                                 ...    ...   \n",
       "495        How to preserve mass quantities of chicken?      1   \n",
       "496  Up To $1975 In Free Cash, Stock &amp; Bitcoin ...      1   \n",
       "497    When you're too frugal to spend $50 on a Chemex      1   \n",
       "498          Amazon prime for $5.99 w/ EBT or Medicaid      3   \n",
       "499             Air filter/Air cleaner recommendations      2   \n",
       "\n",
       "                                                  link  \n",
       "0    https://www.reddit.com/r/Frugal/comments/g5uy8...  \n",
       "1    https://www.reddit.com/r/Frugal/comments/g5uob...  \n",
       "2    https://www.reddit.com/r/Frugal/comments/g5u71...  \n",
       "3    https://www.reddit.com/r/Frugal/comments/g5tx4...  \n",
       "4    https://www.reddit.com/r/Frugal/comments/g5tef...  \n",
       "..                                                 ...  \n",
       "495  https://www.reddit.com/r/Frugal/comments/fwoum...  \n",
       "496  https://www.reddit.com/r/Frugal/comments/fwoab...  \n",
       "497  https://www.reddit.com/r/Frugal/comments/fwni6...  \n",
       "498  https://www.reddit.com/r/Frugal/comments/fwmwp...  \n",
       "499  https://www.reddit.com/r/Frugal/comments/fwmvq...  \n",
       "\n",
       "[500 rows x 8 columns]"
      ]
     },
     "execution_count": 114,
     "metadata": {},
     "output_type": "execute_result"
    }
   ],
   "source": [
    "keepers_df = pd.DataFrame(keepers)\n",
    "keepers_df"
   ]
  },
  {
   "cell_type": "code",
   "execution_count": 113,
   "metadata": {},
   "outputs": [],
   "source": [
    "#create csv\n",
    "keepers_df.to_csv('frugal_1.csv')"
   ]
  },
  {
   "cell_type": "code",
   "execution_count": 119,
   "metadata": {},
   "outputs": [],
   "source": [
    "#test add to csv\n",
    "keepers_df.to_csv('frugal_1.csv', mode='a', header=False)"
   ]
  }
 ],
 "metadata": {
  "kernelspec": {
   "display_name": "Python 3",
   "language": "python",
   "name": "python3"
  },
  "language_info": {
   "codemirror_mode": {
    "name": "ipython",
    "version": 3
   },
   "file_extension": ".py",
   "mimetype": "text/x-python",
   "name": "python",
   "nbconvert_exporter": "python",
   "pygments_lexer": "ipython3",
   "version": "3.7.6"
  }
 },
 "nbformat": 4,
 "nbformat_minor": 4
}
