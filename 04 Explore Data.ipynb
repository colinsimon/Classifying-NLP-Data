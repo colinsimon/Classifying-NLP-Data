{
 "cells": [
  {
   "cell_type": "markdown",
   "metadata": {},
   "source": [
    "# Natural Language Processing (NLP) Experiments\n",
    "\n",
    "## Modeling and Evaluation\n",
    "\n",
    "##### Colin Simon - 4/24/2020\n",
    "\n",
    "\n",
    "## Document Summary\n",
    "In this project, we will gather data from two different reddit.com subforums('subreddits'). Then, we'll attempt to create a model that can classify which subreddit any given post came from.\n",
    "\n",
    "    - We will focus more on the effectiveness and analysis of the models in general than the utility of the predictor itself \n",
    "\n",
    "##### Key Files in folder:\n",
    "    - 01 Preliminary code.ipynb <-- unused\n",
    "    - 02 Pull Data - PRAW.ipynb <-- unused\n",
    "    - 03 Pull Data Pushshift API.ipynb <-- this data used\n",
    "    - 04 Explore Data.ipynb <-- you are here\n",
    "    - Language differences between Saving and Investing.key <-- slide deck\n"
   ]
  },
  {
   "cell_type": "markdown",
   "metadata": {},
   "source": [
    "### Contents:\n",
    "- [1. Imports](#1.-Imports)\n",
    "- [2. Data Gathering](#2.-Data-Gathering)\n",
    "- [3. Exploratory Data Analysis (EDA)](#3.-Exploratory-Data-Analysis-(EDA))\n",
    "- [4. Cleaning](#4.-Cleaning)\n",
    "- [5. Combine Dataframes](#5.-Combine-Dataframes)\n",
    "- [6. Modeling](#6.-Modeling)\n",
    "- [7. Conclusions and Selections](#7.-Conclusions-and-Selections)\n",
    "- [8. Bonus: Word Lists](#8.-Bonus:-Word-Lists)"
   ]
  },
  {
   "cell_type": "markdown",
   "metadata": {},
   "source": [
    "# 1. Imports"
   ]
  },
  {
   "cell_type": "code",
   "execution_count": 240,
   "metadata": {},
   "outputs": [],
   "source": [
    "# Basics\n",
    "import pandas as pd\n",
    "import numpy as np\n",
    "import time\n",
    "import missingno as msno\n",
    "import matplotlib.pyplot as plt\n",
    "\n",
    "# Modeling toolbox\n",
    "from sklearn.pipeline import Pipeline\n",
    "from sklearn.model_selection import train_test_split, cross_val_score, GridSearchCV\n",
    "from sklearn.metrics import confusion_matrix\n",
    "from sklearn.preprocessing import StandardScaler\n",
    "\n",
    "# NLP specific\n",
    "from nltk.corpus import stopwords\n",
    "from nltk.tokenize import RegexpTokenizer\n",
    "from sklearn.feature_extraction.text import CountVectorizer, TfidfVectorizer\n",
    "\n",
    "# Model imports\n",
    "from sklearn.linear_model import LogisticRegression\n",
    "from sklearn.ensemble import VotingClassifier, RandomForestClassifier, ExtraTreesClassifier\n",
    "from sklearn.naive_bayes import MultinomialNB, GaussianNB\n",
    "from sklearn.svm import LinearSVC"
   ]
  },
  {
   "cell_type": "markdown",
   "metadata": {},
   "source": [
    "# 2. Data Gathering\n",
    "#### The \"frugal_2.csv\" file and \"investing_2.csv\" file were imported through Jupyter Notebook \"03 Pull Data Pushshift API\"."
   ]
  },
  {
   "cell_type": "code",
   "execution_count": 3,
   "metadata": {
    "scrolled": true
   },
   "outputs": [
    {
     "name": "stderr",
     "output_type": "stream",
     "text": [
      "/Users/colinsimon/anaconda3/lib/python3.7/site-packages/IPython/core/interactiveshell.py:3063: DtypeWarning: Columns (0,1) have mixed types.Specify dtype option on import or set low_memory=False.\n",
      "  interactivity=interactivity, compiler=compiler, result=result)\n"
     ]
    }
   ],
   "source": [
    "frugal = pd.read_csv('frugal_2.csv')"
   ]
  },
  {
   "cell_type": "markdown",
   "metadata": {},
   "source": [
    "This warning message should be investigated. Let's look at data types below."
   ]
  },
  {
   "cell_type": "code",
   "execution_count": 4,
   "metadata": {},
   "outputs": [],
   "source": [
    "investing = pd.read_csv('investing_2.csv')"
   ]
  },
  {
   "cell_type": "markdown",
   "metadata": {},
   "source": [
    "# 3. Exploratory Data Analysis (EDA)"
   ]
  },
  {
   "cell_type": "code",
   "execution_count": 5,
   "metadata": {
    "scrolled": false
   },
   "outputs": [
    {
     "data": {
      "text/plain": [
       "Unnamed: 0      object\n",
       "created_utc     object\n",
       "id              object\n",
       "score          float64\n",
       "title           object\n",
       "selftext        object\n",
       "full_link       object\n",
       "subreddit       object\n",
       "submission     float64\n",
       "dtype: object"
      ]
     },
     "execution_count": 5,
     "metadata": {},
     "output_type": "execute_result"
    }
   ],
   "source": [
    "frugal.dtypes"
   ]
  },
  {
   "cell_type": "markdown",
   "metadata": {},
   "source": [
    "The data types from r/Frugal did not import very well. Created_utc, score, and submission should all be integers. We'll clean this below."
   ]
  },
  {
   "cell_type": "code",
   "execution_count": 6,
   "metadata": {
    "scrolled": true
   },
   "outputs": [
    {
     "data": {
      "text/plain": [
       "Unnamed: 0      int64\n",
       "created_utc     int64\n",
       "id             object\n",
       "score           int64\n",
       "title          object\n",
       "selftext       object\n",
       "full_link      object\n",
       "subreddit      object\n",
       "submission      int64\n",
       "dtype: object"
      ]
     },
     "execution_count": 6,
     "metadata": {},
     "output_type": "execute_result"
    }
   ],
   "source": [
    "investing.dtypes"
   ]
  },
  {
   "cell_type": "code",
   "execution_count": 199,
   "metadata": {},
   "outputs": [
    {
     "data": {
      "text/plain": [
       "100000"
      ]
     },
     "execution_count": 199,
     "metadata": {},
     "output_type": "execute_result"
    }
   ],
   "source": [
    "len(investing)"
   ]
  },
  {
   "cell_type": "code",
   "execution_count": 205,
   "metadata": {},
   "outputs": [
    {
     "data": {
      "text/plain": [
       "99998"
      ]
     },
     "execution_count": 205,
     "metadata": {},
     "output_type": "execute_result"
    }
   ],
   "source": [
    "len(frugal)"
   ]
  },
  {
   "cell_type": "markdown",
   "metadata": {},
   "source": [
    "#### View missing"
   ]
  },
  {
   "cell_type": "code",
   "execution_count": 200,
   "metadata": {},
   "outputs": [
    {
     "data": {
      "image/png": "[encoded data removed]",
      "text/plain": [
       "<Figure size 1800x720 with 2 Axes>"
      ]
     },
     "metadata": {
      "needs_background": "light"
     },
     "output_type": "display_data"
    }
   ],
   "source": [
    "msno.matrix(investing.sample(250));"
   ]
  },
  {
   "cell_type": "code",
   "execution_count": 201,
   "metadata": {
    "scrolled": false
   },
   "outputs": [
    {
     "data": {
      "image/png": "[encoded data removed]",
      "text/plain": [
       "<Figure size 1800x720 with 2 Axes>"
      ]
     },
     "metadata": {
      "needs_background": "light"
     },
     "output_type": "display_data"
    }
   ],
   "source": [
    "msno.matrix(frugal.sample(250));"
   ]
  },
  {
   "cell_type": "markdown",
   "metadata": {},
   "source": [
    "Appears that Investing has much more in the \"selftext\" which is a proxy for what people write verus title."
   ]
  },
  {
   "cell_type": "code",
   "execution_count": 204,
   "metadata": {},
   "outputs": [
    {
     "data": {
      "text/plain": [
       "created_utc       0\n",
       "id                0\n",
       "score             0\n",
       "title             0\n",
       "selftext       6404\n",
       "full_link         0\n",
       "subreddit         0\n",
       "submission        0\n",
       "dtype: int64"
      ]
     },
     "execution_count": 204,
     "metadata": {},
     "output_type": "execute_result"
    }
   ],
   "source": [
    "investing.isna().sum()"
   ]
  },
  {
   "cell_type": "code",
   "execution_count": 203,
   "metadata": {},
   "outputs": [
    {
     "data": {
      "text/plain": [
       "created_utc        0\n",
       "id                 0\n",
       "score              0\n",
       "title              0\n",
       "selftext       31988\n",
       "full_link          0\n",
       "subreddit          0\n",
       "submission         0\n",
       "dtype: int64"
      ]
     },
     "execution_count": 203,
     "metadata": {},
     "output_type": "execute_result"
    }
   ],
   "source": [
    "frugal.isna().sum()"
   ]
  },
  {
   "cell_type": "markdown",
   "metadata": {},
   "source": [
    "# 4. Cleaning"
   ]
  },
  {
   "cell_type": "markdown",
   "metadata": {},
   "source": [
    "We found several rows with NaN values in several columns. This function uses the 'subreddit' column to remove this group."
   ]
  },
  {
   "cell_type": "code",
   "execution_count": 16,
   "metadata": {},
   "outputs": [],
   "source": [
    "def drop_unnamed_nan(dataframe):\n",
    "    # drop NaN values\n",
    "    dataframe.dropna(subset=['subreddit'], how='all', inplace=True)\n",
    "    # drop Unnamed column\n",
    "    try:\n",
    "        dataframe.drop('Unnamed: 0', 1, inplace=True)\n",
    "    except:\n",
    "        dataframe\n",
    "    return dataframe"
   ]
  },
  {
   "cell_type": "markdown",
   "metadata": {},
   "source": [
    "This function will fix object data types found primarily in the Frugal dataset."
   ]
  },
  {
   "cell_type": "code",
   "execution_count": 8,
   "metadata": {},
   "outputs": [],
   "source": [
    "def floats_to_ints(dataframe):\n",
    "    # Disable chained assignments; from stackoverflow.com\n",
    "    pd.options.mode.chained_assignment = None\n",
    "    dataframe['created_utc'] = dataframe['created_utc'].astype(int)\n",
    "    dataframe['score'] = dataframe['score'].astype(int)\n",
    "    dataframe['submission'] = dataframe['submission'].astype(int)\n",
    "    return dataframe"
   ]
  },
  {
   "cell_type": "code",
   "execution_count": 22,
   "metadata": {
    "scrolled": true
   },
   "outputs": [
    {
     "data": {
      "text/html": [
       "<div>\n",
       "<style scoped>\n",
       "    .dataframe tbody tr th:only-of-type {\n",
       "        vertical-align: middle;\n",
       "    }\n",
       "\n",
       "    .dataframe tbody tr th {\n",
       "        vertical-align: top;\n",
       "    }\n",
       "\n",
       "    .dataframe thead th {\n",
       "        text-align: right;\n",
       "    }\n",
       "</style>\n",
       "<table border=\"1\" class=\"dataframe\">\n",
       "  <thead>\n",
       "    <tr style=\"text-align: right;\">\n",
       "      <th></th>\n",
       "      <th>created_utc</th>\n",
       "      <th>id</th>\n",
       "      <th>score</th>\n",
       "      <th>title</th>\n",
       "      <th>selftext</th>\n",
       "      <th>full_link</th>\n",
       "      <th>subreddit</th>\n",
       "      <th>submission</th>\n",
       "    </tr>\n",
       "  </thead>\n",
       "  <tbody>\n",
       "    <tr>\n",
       "      <th>0</th>\n",
       "      <td>1587535925</td>\n",
       "      <td>g5vvec</td>\n",
       "      <td>1</td>\n",
       "      <td>Where can I buy aapl stock in NZ?</td>\n",
       "      <td>Hey guys, can anybody let me know where can I ...</td>\n",
       "      <td>https://www.reddit.com/r/investing/comments/g5...</td>\n",
       "      <td>investing</td>\n",
       "      <td>1</td>\n",
       "    </tr>\n",
       "    <tr>\n",
       "      <th>1</th>\n",
       "      <td>1587535891</td>\n",
       "      <td>g5vv5z</td>\n",
       "      <td>1</td>\n",
       "      <td>Is GLD Trust the best way to trade GOLD?</td>\n",
       "      <td>I’m looking for the best option to trade gold ...</td>\n",
       "      <td>https://www.reddit.com/r/investing/comments/g5...</td>\n",
       "      <td>investing</td>\n",
       "      <td>1</td>\n",
       "    </tr>\n",
       "    <tr>\n",
       "      <th>2</th>\n",
       "      <td>1587535866</td>\n",
       "      <td>g5vuzu</td>\n",
       "      <td>1</td>\n",
       "      <td>\"Who's going to pay the bill?\"</td>\n",
       "      <td>I've watched the two interviews Ray Dalio has ...</td>\n",
       "      <td>https://www.reddit.com/r/investing/comments/g5...</td>\n",
       "      <td>investing</td>\n",
       "      <td>1</td>\n",
       "    </tr>\n",
       "    <tr>\n",
       "      <th>3</th>\n",
       "      <td>1587535645</td>\n",
       "      <td>g5vtgr</td>\n",
       "      <td>1</td>\n",
       "      <td>Conditional trades question</td>\n",
       "      <td>I'd like to use a one-triggers-a-one-cancels-t...</td>\n",
       "      <td>https://www.reddit.com/r/investing/comments/g5...</td>\n",
       "      <td>investing</td>\n",
       "      <td>1</td>\n",
       "    </tr>\n",
       "    <tr>\n",
       "      <th>4</th>\n",
       "      <td>1587535333</td>\n",
       "      <td>g5vrb9</td>\n",
       "      <td>1</td>\n",
       "      <td>Best way to learn/ get into stock market</td>\n",
       "      <td>What’s the best way to learn? I just don’t kno...</td>\n",
       "      <td>https://www.reddit.com/r/investing/comments/g5...</td>\n",
       "      <td>investing</td>\n",
       "      <td>1</td>\n",
       "    </tr>\n",
       "    <tr>\n",
       "      <th>...</th>\n",
       "      <td>...</td>\n",
       "      <td>...</td>\n",
       "      <td>...</td>\n",
       "      <td>...</td>\n",
       "      <td>...</td>\n",
       "      <td>...</td>\n",
       "      <td>...</td>\n",
       "      <td>...</td>\n",
       "    </tr>\n",
       "    <tr>\n",
       "      <th>99995</th>\n",
       "      <td>1478376265</td>\n",
       "      <td>5bbuay</td>\n",
       "      <td>0</td>\n",
       "      <td>Paper Trading Crude Oil CFDs at IG</td>\n",
       "      <td>[deleted]</td>\n",
       "      <td>https://www.reddit.com/r/investing/comments/5b...</td>\n",
       "      <td>investing</td>\n",
       "      <td>1</td>\n",
       "    </tr>\n",
       "    <tr>\n",
       "      <th>99996</th>\n",
       "      <td>1478373621</td>\n",
       "      <td>5bbm4v</td>\n",
       "      <td>0</td>\n",
       "      <td>ELECTION DAY PROSPECT THREAD</td>\n",
       "      <td>Can we talk about stocks to look out for on el...</td>\n",
       "      <td>https://www.reddit.com/r/investing/comments/5b...</td>\n",
       "      <td>investing</td>\n",
       "      <td>1</td>\n",
       "    </tr>\n",
       "    <tr>\n",
       "      <th>99997</th>\n",
       "      <td>1478372131</td>\n",
       "      <td>5bbhfk</td>\n",
       "      <td>21</td>\n",
       "      <td>Howard Schultz on Retail</td>\n",
       "      <td>I've said on this sub for a while now that we ...</td>\n",
       "      <td>https://www.reddit.com/r/investing/comments/5b...</td>\n",
       "      <td>investing</td>\n",
       "      <td>1</td>\n",
       "    </tr>\n",
       "    <tr>\n",
       "      <th>99998</th>\n",
       "      <td>1478372103</td>\n",
       "      <td>5bbhc2</td>\n",
       "      <td>0</td>\n",
       "      <td>How do i deduct stock losses for IRS tax deduc...</td>\n",
       "      <td>Say for the entire year of 2016 I bought one s...</td>\n",
       "      <td>https://www.reddit.com/r/investing/comments/5b...</td>\n",
       "      <td>investing</td>\n",
       "      <td>1</td>\n",
       "    </tr>\n",
       "    <tr>\n",
       "      <th>99999</th>\n",
       "      <td>1478371582</td>\n",
       "      <td>5bbfs8</td>\n",
       "      <td>2</td>\n",
       "      <td>The Egyptian Pound</td>\n",
       "      <td>So, recently to attract tourists and foreign i...</td>\n",
       "      <td>https://www.reddit.com/r/investing/comments/5b...</td>\n",
       "      <td>investing</td>\n",
       "      <td>1</td>\n",
       "    </tr>\n",
       "  </tbody>\n",
       "</table>\n",
       "<p>100000 rows × 8 columns</p>\n",
       "</div>"
      ],
      "text/plain": [
       "       created_utc      id  score  \\\n",
       "0       1587535925  g5vvec      1   \n",
       "1       1587535891  g5vv5z      1   \n",
       "2       1587535866  g5vuzu      1   \n",
       "3       1587535645  g5vtgr      1   \n",
       "4       1587535333  g5vrb9      1   \n",
       "...            ...     ...    ...   \n",
       "99995   1478376265  5bbuay      0   \n",
       "99996   1478373621  5bbm4v      0   \n",
       "99997   1478372131  5bbhfk     21   \n",
       "99998   1478372103  5bbhc2      0   \n",
       "99999   1478371582  5bbfs8      2   \n",
       "\n",
       "                                                   title  \\\n",
       "0                      Where can I buy aapl stock in NZ?   \n",
       "1               Is GLD Trust the best way to trade GOLD?   \n",
       "2                         \"Who's going to pay the bill?\"   \n",
       "3                            Conditional trades question   \n",
       "4               Best way to learn/ get into stock market   \n",
       "...                                                  ...   \n",
       "99995                 Paper Trading Crude Oil CFDs at IG   \n",
       "99996                       ELECTION DAY PROSPECT THREAD   \n",
       "99997                           Howard Schultz on Retail   \n",
       "99998  How do i deduct stock losses for IRS tax deduc...   \n",
       "99999                                 The Egyptian Pound   \n",
       "\n",
       "                                                selftext  \\\n",
       "0      Hey guys, can anybody let me know where can I ...   \n",
       "1      I’m looking for the best option to trade gold ...   \n",
       "2      I've watched the two interviews Ray Dalio has ...   \n",
       "3      I'd like to use a one-triggers-a-one-cancels-t...   \n",
       "4      What’s the best way to learn? I just don’t kno...   \n",
       "...                                                  ...   \n",
       "99995                                          [deleted]   \n",
       "99996  Can we talk about stocks to look out for on el...   \n",
       "99997  I've said on this sub for a while now that we ...   \n",
       "99998  Say for the entire year of 2016 I bought one s...   \n",
       "99999  So, recently to attract tourists and foreign i...   \n",
       "\n",
       "                                               full_link  subreddit  \\\n",
       "0      https://www.reddit.com/r/investing/comments/g5...  investing   \n",
       "1      https://www.reddit.com/r/investing/comments/g5...  investing   \n",
       "2      https://www.reddit.com/r/investing/comments/g5...  investing   \n",
       "3      https://www.reddit.com/r/investing/comments/g5...  investing   \n",
       "4      https://www.reddit.com/r/investing/comments/g5...  investing   \n",
       "...                                                  ...        ...   \n",
       "99995  https://www.reddit.com/r/investing/comments/5b...  investing   \n",
       "99996  https://www.reddit.com/r/investing/comments/5b...  investing   \n",
       "99997  https://www.reddit.com/r/investing/comments/5b...  investing   \n",
       "99998  https://www.reddit.com/r/investing/comments/5b...  investing   \n",
       "99999  https://www.reddit.com/r/investing/comments/5b...  investing   \n",
       "\n",
       "       submission  \n",
       "0               1  \n",
       "1               1  \n",
       "2               1  \n",
       "3               1  \n",
       "4               1  \n",
       "...           ...  \n",
       "99995           1  \n",
       "99996           1  \n",
       "99997           1  \n",
       "99998           1  \n",
       "99999           1  \n",
       "\n",
       "[100000 rows x 8 columns]"
      ]
     },
     "execution_count": 22,
     "metadata": {},
     "output_type": "execute_result"
    }
   ],
   "source": [
    "drop_unnamed_nan(investing)\n",
    "floats_to_ints(investing)"
   ]
  },
  {
   "cell_type": "code",
   "execution_count": 23,
   "metadata": {
    "scrolled": true
   },
   "outputs": [
    {
     "data": {
      "text/html": [
       "<div>\n",
       "<style scoped>\n",
       "    .dataframe tbody tr th:only-of-type {\n",
       "        vertical-align: middle;\n",
       "    }\n",
       "\n",
       "    .dataframe tbody tr th {\n",
       "        vertical-align: top;\n",
       "    }\n",
       "\n",
       "    .dataframe thead th {\n",
       "        text-align: right;\n",
       "    }\n",
       "</style>\n",
       "<table border=\"1\" class=\"dataframe\">\n",
       "  <thead>\n",
       "    <tr style=\"text-align: right;\">\n",
       "      <th></th>\n",
       "      <th>created_utc</th>\n",
       "      <th>id</th>\n",
       "      <th>score</th>\n",
       "      <th>title</th>\n",
       "      <th>selftext</th>\n",
       "      <th>full_link</th>\n",
       "      <th>subreddit</th>\n",
       "      <th>submission</th>\n",
       "    </tr>\n",
       "  </thead>\n",
       "  <tbody>\n",
       "    <tr>\n",
       "      <th>0</th>\n",
       "      <td>1587531253</td>\n",
       "      <td>g5uy8g</td>\n",
       "      <td>1</td>\n",
       "      <td>If you are a frugal entrepreneur and small bus...</td>\n",
       "      <td>I work as a software developer, but I have alw...</td>\n",
       "      <td>https://www.reddit.com/r/Frugal/comments/g5uy8...</td>\n",
       "      <td>frugal</td>\n",
       "      <td>1</td>\n",
       "    </tr>\n",
       "    <tr>\n",
       "      <th>1</th>\n",
       "      <td>1587529942</td>\n",
       "      <td>g5uob9</td>\n",
       "      <td>1</td>\n",
       "      <td>Food Baby - App to find cheap, nutritious food...</td>\n",
       "      <td>[Food Baby · foodbaby.app](https://web.foodbab...</td>\n",
       "      <td>https://www.reddit.com/r/Frugal/comments/g5uob...</td>\n",
       "      <td>frugal</td>\n",
       "      <td>1</td>\n",
       "    </tr>\n",
       "    <tr>\n",
       "      <th>2</th>\n",
       "      <td>1587527758</td>\n",
       "      <td>g5u71u</td>\n",
       "      <td>1</td>\n",
       "      <td>$70 Greenhouse</td>\n",
       "      <td>NaN</td>\n",
       "      <td>https://www.reddit.com/r/Frugal/comments/g5u71...</td>\n",
       "      <td>frugal</td>\n",
       "      <td>1</td>\n",
       "    </tr>\n",
       "    <tr>\n",
       "      <th>3</th>\n",
       "      <td>1587526543</td>\n",
       "      <td>g5tx48</td>\n",
       "      <td>1</td>\n",
       "      <td>Never buying bread again. I realized I can bak...</td>\n",
       "      <td>NaN</td>\n",
       "      <td>https://www.reddit.com/r/Frugal/comments/g5tx4...</td>\n",
       "      <td>frugal</td>\n",
       "      <td>1</td>\n",
       "    </tr>\n",
       "    <tr>\n",
       "      <th>4</th>\n",
       "      <td>1587524345</td>\n",
       "      <td>g5tefs</td>\n",
       "      <td>1</td>\n",
       "      <td>Make your grocery store croissants bakery qual...</td>\n",
       "      <td>NaN</td>\n",
       "      <td>https://www.reddit.com/r/Frugal/comments/g5tef...</td>\n",
       "      <td>frugal</td>\n",
       "      <td>1</td>\n",
       "    </tr>\n",
       "    <tr>\n",
       "      <th>...</th>\n",
       "      <td>...</td>\n",
       "      <td>...</td>\n",
       "      <td>...</td>\n",
       "      <td>...</td>\n",
       "      <td>...</td>\n",
       "      <td>...</td>\n",
       "      <td>...</td>\n",
       "      <td>...</td>\n",
       "    </tr>\n",
       "    <tr>\n",
       "      <th>99999</th>\n",
       "      <td>1363066675</td>\n",
       "      <td>1a4swl</td>\n",
       "      <td>10</td>\n",
       "      <td>I take a whole pasta casserole to work for lun...</td>\n",
       "      <td>I bake pasta casseroles in a disposable alumin...</td>\n",
       "      <td>https://www.reddit.com/r/Frugal/comments/1a4sw...</td>\n",
       "      <td>frugal</td>\n",
       "      <td>1</td>\n",
       "    </tr>\n",
       "    <tr>\n",
       "      <th>100000</th>\n",
       "      <td>1363063387</td>\n",
       "      <td>1a4ppl</td>\n",
       "      <td>1193</td>\n",
       "      <td>Wow, Ziplock beating No Name by a penny! What ...</td>\n",
       "      <td>NaN</td>\n",
       "      <td>https://www.reddit.com/r/Frugal/comments/1a4pp...</td>\n",
       "      <td>frugal</td>\n",
       "      <td>1</td>\n",
       "    </tr>\n",
       "    <tr>\n",
       "      <th>100001</th>\n",
       "      <td>1363058148</td>\n",
       "      <td>1a4job</td>\n",
       "      <td>4</td>\n",
       "      <td>The Good Followed by the Bad!!</td>\n",
       "      <td>This past weekend I over came a huge bill and ...</td>\n",
       "      <td>https://www.reddit.com/r/Frugal/comments/1a4jo...</td>\n",
       "      <td>frugal</td>\n",
       "      <td>1</td>\n",
       "    </tr>\n",
       "    <tr>\n",
       "      <th>100002</th>\n",
       "      <td>1363056495</td>\n",
       "      <td>1a4hkc</td>\n",
       "      <td>15</td>\n",
       "      <td>Film, show, or documentary style video on bein...</td>\n",
       "      <td>hello all,\\n\\nAfter finding this subreddit I h...</td>\n",
       "      <td>https://www.reddit.com/r/Frugal/comments/1a4hk...</td>\n",
       "      <td>frugal</td>\n",
       "      <td>1</td>\n",
       "    </tr>\n",
       "    <tr>\n",
       "      <th>100003</th>\n",
       "      <td>1363054667</td>\n",
       "      <td>1a4fcx</td>\n",
       "      <td>7</td>\n",
       "      <td>cheaper internet bill</td>\n",
       "      <td>I have time warner 15 mpbs internet (cut cable...</td>\n",
       "      <td>https://www.reddit.com/r/Frugal/comments/1a4fc...</td>\n",
       "      <td>frugal</td>\n",
       "      <td>1</td>\n",
       "    </tr>\n",
       "  </tbody>\n",
       "</table>\n",
       "<p>99998 rows × 8 columns</p>\n",
       "</div>"
      ],
      "text/plain": [
       "        created_utc      id  score  \\\n",
       "0        1587531253  g5uy8g      1   \n",
       "1        1587529942  g5uob9      1   \n",
       "2        1587527758  g5u71u      1   \n",
       "3        1587526543  g5tx48      1   \n",
       "4        1587524345  g5tefs      1   \n",
       "...             ...     ...    ...   \n",
       "99999    1363066675  1a4swl     10   \n",
       "100000   1363063387  1a4ppl   1193   \n",
       "100001   1363058148  1a4job      4   \n",
       "100002   1363056495  1a4hkc     15   \n",
       "100003   1363054667  1a4fcx      7   \n",
       "\n",
       "                                                    title  \\\n",
       "0       If you are a frugal entrepreneur and small bus...   \n",
       "1       Food Baby - App to find cheap, nutritious food...   \n",
       "2                                          $70 Greenhouse   \n",
       "3       Never buying bread again. I realized I can bak...   \n",
       "4       Make your grocery store croissants bakery qual...   \n",
       "...                                                   ...   \n",
       "99999   I take a whole pasta casserole to work for lun...   \n",
       "100000  Wow, Ziplock beating No Name by a penny! What ...   \n",
       "100001                     The Good Followed by the Bad!!   \n",
       "100002  Film, show, or documentary style video on bein...   \n",
       "100003                              cheaper internet bill   \n",
       "\n",
       "                                                 selftext  \\\n",
       "0       I work as a software developer, but I have alw...   \n",
       "1       [Food Baby · foodbaby.app](https://web.foodbab...   \n",
       "2                                                     NaN   \n",
       "3                                                     NaN   \n",
       "4                                                     NaN   \n",
       "...                                                   ...   \n",
       "99999   I bake pasta casseroles in a disposable alumin...   \n",
       "100000                                                NaN   \n",
       "100001  This past weekend I over came a huge bill and ...   \n",
       "100002  hello all,\\n\\nAfter finding this subreddit I h...   \n",
       "100003  I have time warner 15 mpbs internet (cut cable...   \n",
       "\n",
       "                                                full_link subreddit  \\\n",
       "0       https://www.reddit.com/r/Frugal/comments/g5uy8...    frugal   \n",
       "1       https://www.reddit.com/r/Frugal/comments/g5uob...    frugal   \n",
       "2       https://www.reddit.com/r/Frugal/comments/g5u71...    frugal   \n",
       "3       https://www.reddit.com/r/Frugal/comments/g5tx4...    frugal   \n",
       "4       https://www.reddit.com/r/Frugal/comments/g5tef...    frugal   \n",
       "...                                                   ...       ...   \n",
       "99999   https://www.reddit.com/r/Frugal/comments/1a4sw...    frugal   \n",
       "100000  https://www.reddit.com/r/Frugal/comments/1a4pp...    frugal   \n",
       "100001  https://www.reddit.com/r/Frugal/comments/1a4jo...    frugal   \n",
       "100002  https://www.reddit.com/r/Frugal/comments/1a4hk...    frugal   \n",
       "100003  https://www.reddit.com/r/Frugal/comments/1a4fc...    frugal   \n",
       "\n",
       "        submission  \n",
       "0                1  \n",
       "1                1  \n",
       "2                1  \n",
       "3                1  \n",
       "4                1  \n",
       "...            ...  \n",
       "99999            1  \n",
       "100000           1  \n",
       "100001           1  \n",
       "100002           1  \n",
       "100003           1  \n",
       "\n",
       "[99998 rows x 8 columns]"
      ]
     },
     "execution_count": 23,
     "metadata": {},
     "output_type": "execute_result"
    }
   ],
   "source": [
    "drop_unnamed_nan(frugal)\n",
    "floats_to_ints(frugal)"
   ]
  },
  {
   "cell_type": "markdown",
   "metadata": {},
   "source": [
    "# 5. Combine dataframes"
   ]
  },
  {
   "cell_type": "markdown",
   "metadata": {},
   "source": [
    "This function also adds the \"title\" and the \"subtext\" columns into one \"string to rule them all\""
   ]
  },
  {
   "cell_type": "code",
   "execution_count": 78,
   "metadata": {},
   "outputs": [],
   "source": [
    "def df_add(df1, df2):\n",
    "    combined = df1.append(df2)\n",
    "    classification = {\n",
    "        'frugal': 0,\n",
    "        'investing': 1,\n",
    "    }\n",
    "    combined['result'] = combined['subreddit'].map(classification)\n",
    "    combined['words'] = combined['title'] + ' ' + combined['selftext'] \n",
    "    return combined"
   ]
  },
  {
   "cell_type": "code",
   "execution_count": 79,
   "metadata": {},
   "outputs": [],
   "source": [
    "combined = df_add(frugal, investing)"
   ]
  },
  {
   "cell_type": "code",
   "execution_count": 80,
   "metadata": {
    "scrolled": true
   },
   "outputs": [
    {
     "data": {
      "text/html": [
       "<div>\n",
       "<style scoped>\n",
       "    .dataframe tbody tr th:only-of-type {\n",
       "        vertical-align: middle;\n",
       "    }\n",
       "\n",
       "    .dataframe tbody tr th {\n",
       "        vertical-align: top;\n",
       "    }\n",
       "\n",
       "    .dataframe thead th {\n",
       "        text-align: right;\n",
       "    }\n",
       "</style>\n",
       "<table border=\"1\" class=\"dataframe\">\n",
       "  <thead>\n",
       "    <tr style=\"text-align: right;\">\n",
       "      <th></th>\n",
       "      <th>created_utc</th>\n",
       "      <th>id</th>\n",
       "      <th>score</th>\n",
       "      <th>title</th>\n",
       "      <th>selftext</th>\n",
       "      <th>full_link</th>\n",
       "      <th>subreddit</th>\n",
       "      <th>submission</th>\n",
       "      <th>result</th>\n",
       "      <th>words</th>\n",
       "    </tr>\n",
       "  </thead>\n",
       "  <tbody>\n",
       "    <tr>\n",
       "      <th>0</th>\n",
       "      <td>1587531253</td>\n",
       "      <td>g5uy8g</td>\n",
       "      <td>1</td>\n",
       "      <td>If you are a frugal entrepreneur and small bus...</td>\n",
       "      <td>I work as a software developer, but I have alw...</td>\n",
       "      <td>https://www.reddit.com/r/Frugal/comments/g5uy8...</td>\n",
       "      <td>frugal</td>\n",
       "      <td>1</td>\n",
       "      <td>0</td>\n",
       "      <td>If you are a frugal entrepreneur and small bus...</td>\n",
       "    </tr>\n",
       "    <tr>\n",
       "      <th>1</th>\n",
       "      <td>1587529942</td>\n",
       "      <td>g5uob9</td>\n",
       "      <td>1</td>\n",
       "      <td>Food Baby - App to find cheap, nutritious food...</td>\n",
       "      <td>[Food Baby · foodbaby.app](https://web.foodbab...</td>\n",
       "      <td>https://www.reddit.com/r/Frugal/comments/g5uob...</td>\n",
       "      <td>frugal</td>\n",
       "      <td>1</td>\n",
       "      <td>0</td>\n",
       "      <td>Food Baby - App to find cheap, nutritious food...</td>\n",
       "    </tr>\n",
       "    <tr>\n",
       "      <th>2</th>\n",
       "      <td>1587527758</td>\n",
       "      <td>g5u71u</td>\n",
       "      <td>1</td>\n",
       "      <td>$70 Greenhouse</td>\n",
       "      <td>NaN</td>\n",
       "      <td>https://www.reddit.com/r/Frugal/comments/g5u71...</td>\n",
       "      <td>frugal</td>\n",
       "      <td>1</td>\n",
       "      <td>0</td>\n",
       "      <td>NaN</td>\n",
       "    </tr>\n",
       "    <tr>\n",
       "      <th>3</th>\n",
       "      <td>1587526543</td>\n",
       "      <td>g5tx48</td>\n",
       "      <td>1</td>\n",
       "      <td>Never buying bread again. I realized I can bak...</td>\n",
       "      <td>NaN</td>\n",
       "      <td>https://www.reddit.com/r/Frugal/comments/g5tx4...</td>\n",
       "      <td>frugal</td>\n",
       "      <td>1</td>\n",
       "      <td>0</td>\n",
       "      <td>NaN</td>\n",
       "    </tr>\n",
       "    <tr>\n",
       "      <th>4</th>\n",
       "      <td>1587524345</td>\n",
       "      <td>g5tefs</td>\n",
       "      <td>1</td>\n",
       "      <td>Make your grocery store croissants bakery qual...</td>\n",
       "      <td>NaN</td>\n",
       "      <td>https://www.reddit.com/r/Frugal/comments/g5tef...</td>\n",
       "      <td>frugal</td>\n",
       "      <td>1</td>\n",
       "      <td>0</td>\n",
       "      <td>NaN</td>\n",
       "    </tr>\n",
       "  </tbody>\n",
       "</table>\n",
       "</div>"
      ],
      "text/plain": [
       "   created_utc      id  score  \\\n",
       "0   1587531253  g5uy8g      1   \n",
       "1   1587529942  g5uob9      1   \n",
       "2   1587527758  g5u71u      1   \n",
       "3   1587526543  g5tx48      1   \n",
       "4   1587524345  g5tefs      1   \n",
       "\n",
       "                                               title  \\\n",
       "0  If you are a frugal entrepreneur and small bus...   \n",
       "1  Food Baby - App to find cheap, nutritious food...   \n",
       "2                                     $70 Greenhouse   \n",
       "3  Never buying bread again. I realized I can bak...   \n",
       "4  Make your grocery store croissants bakery qual...   \n",
       "\n",
       "                                            selftext  \\\n",
       "0  I work as a software developer, but I have alw...   \n",
       "1  [Food Baby · foodbaby.app](https://web.foodbab...   \n",
       "2                                                NaN   \n",
       "3                                                NaN   \n",
       "4                                                NaN   \n",
       "\n",
       "                                           full_link subreddit  submission  \\\n",
       "0  https://www.reddit.com/r/Frugal/comments/g5uy8...    frugal           1   \n",
       "1  https://www.reddit.com/r/Frugal/comments/g5uob...    frugal           1   \n",
       "2  https://www.reddit.com/r/Frugal/comments/g5u71...    frugal           1   \n",
       "3  https://www.reddit.com/r/Frugal/comments/g5tx4...    frugal           1   \n",
       "4  https://www.reddit.com/r/Frugal/comments/g5tef...    frugal           1   \n",
       "\n",
       "   result                                              words  \n",
       "0       0  If you are a frugal entrepreneur and small bus...  \n",
       "1       0  Food Baby - App to find cheap, nutritious food...  \n",
       "2       0                                                NaN  \n",
       "3       0                                                NaN  \n",
       "4       0                                                NaN  "
      ]
     },
     "execution_count": 80,
     "metadata": {},
     "output_type": "execute_result"
    }
   ],
   "source": [
    "combined.head()"
   ]
  },
  {
   "cell_type": "markdown",
   "metadata": {},
   "source": [
    "# 6. Modeling"
   ]
  },
  {
   "cell_type": "markdown",
   "metadata": {},
   "source": [
    "These initial functions will allow us to easily score data and train-test-split quickly if we end up switching features or gathering new data sets."
   ]
  },
  {
   "cell_type": "code",
   "execution_count": 169,
   "metadata": {},
   "outputs": [],
   "source": [
    "# scoring function adapted from Magnus Big' project 3\n",
    "def score(model, X, y):\n",
    "    preds = model.predict(X)\n",
    "\n",
    "#     print(f'{model} train score:', np.round(model.score(X, y),2))\n",
    "    print(f'{model} test score:', np.round(model.score(X, y),2))\n",
    "\n",
    "    # Get confusion matrix and unravel\n",
    "    tn, fp, fn, tp = confusion_matrix(y, preds).ravel() # 1-dimension array\n",
    "    print(f'\\nAccuracy: {round((tp+tn)/len(y),3)}')\n",
    "    print(f'Sensitivity: {round(tp/(tp+fn),3)}')\n",
    "    print(f'Specificity: {round(tn/(tn+fp),3)}')\n",
    "    print(f'Precision: {round(tp/(tp+fp),3)}')\n",
    "    "
   ]
  },
  {
   "cell_type": "code",
   "execution_count": 151,
   "metadata": {},
   "outputs": [],
   "source": [
    "# train-test-split\n",
    "# function idea adapted from Scott Armstrong Ames project\n",
    "def train_test_split_func(features, dataframe):\n",
    "    X = dataframe[features]\n",
    "    y = dataframe['result']\n",
    "    X_train, X_test, y_train, y_test = train_test_split(X,\n",
    "                                                   y,\n",
    "                                                   test_size = 0.2,\n",
    "                                                   random_state=42,\n",
    "                                                   stratify = y)\n",
    "    print('train-test-splitted')"
   ]
  },
  {
   "cell_type": "code",
   "execution_count": 84,
   "metadata": {},
   "outputs": [],
   "source": [
    "features = 'words'"
   ]
  },
  {
   "cell_type": "code",
   "execution_count": 86,
   "metadata": {
    "scrolled": true
   },
   "outputs": [
    {
     "name": "stdout",
     "output_type": "stream",
     "text": [
      "train-test-splitted\n"
     ]
    }
   ],
   "source": [
    "train_test_split_func(features,combined)"
   ]
  },
  {
   "cell_type": "markdown",
   "metadata": {},
   "source": [
    "### Vectorizers"
   ]
  },
  {
   "cell_type": "code",
   "execution_count": 152,
   "metadata": {},
   "outputs": [],
   "source": [
    "#Instantiate, fit, transform both vectorizers\n",
    "cvec2 = CountVectorizer()\n",
    "xtrain_cv = cvec2.fit_transform(X_train)\n",
    "xtest_cv = cvec2.transform(X_test)\n",
    "\n",
    "tfidf2 = TfidfVectorizer()\n",
    "xtrain_tf = tfidf2.fit_transform(X_train)\n",
    "xtest_tf = tfidf2.transform(X_test)"
   ]
  },
  {
   "cell_type": "markdown",
   "metadata": {},
   "source": [
    "#### Parameters"
   ]
  },
  {
   "cell_type": "code",
   "execution_count": 154,
   "metadata": {},
   "outputs": [],
   "source": [
    "#set up parameters\n",
    "cv_params = {\n",
    "    'cvec__max_features': [100, 500],\n",
    "    'cvec__stop_words': [None, stopwords.words(\"english\")],\n",
    "    'cvec__ngram_range': [(1,1), (1,2)],\n",
    "    'lr__penalty': ['l1', 'l2', 'none'] \n",
    "}\n",
    "tfidf_params = {\n",
    "    'tfidf__max_features': [100, 500],\n",
    "    'tfidf__stop_words': [None, stopwords.words(\"english\")],\n",
    "    'tfidf__ngram_range': [(1,1), (1,2)],\n",
    "    'lr__penalty': ['l1', 'l2', 'none'] \n",
    "}\n",
    "rforest_params = {\n",
    "    'n_estimators': [50, 100],\n",
    "    'max_features': [None, 'auto'],\n",
    "    'max_depth': [None, 2, 3, 4]\n",
    "}\n",
    "etrees_params = {\n",
    "    'n_estimators': [50, 100],\n",
    "    'max_features': [None, 'auto'],\n",
    "    'max_depth': [None, 2, 3, 4]\n",
    "}"
   ]
  },
  {
   "cell_type": "markdown",
   "metadata": {},
   "source": [
    "#### Pipelines"
   ]
  },
  {
   "cell_type": "code",
   "execution_count": 186,
   "metadata": {},
   "outputs": [],
   "source": [
    "#instantiate pipelines\n",
    "pipe_cvec = Pipeline([\n",
    "    ('cvec', CountVectorizer()),\n",
    "    ('lr', LogisticRegression(solver='lbfgs', max_iter=1000, verbose=0))\n",
    "])\n",
    "\n",
    "pipe_tfidf = Pipeline([\n",
    "    ('tfidf', TfidfVectorizer()),\n",
    "    ('lr', LogisticRegression(solver='lbfgs', max_iter=1000, verbose=0))\n",
    "])\n",
    "\n",
    "pipe_cvec_rforest = Pipeline([\n",
    "    ('cvec', CountVectorizer()),\n",
    "    ('rforest', RandomForestClassifier(max_depth = 16, random_state=13))\n",
    "])\n",
    "\n",
    "pipe_tfidf_rforest = Pipeline([\n",
    "    ('tfidf', TfidfVectorizer()),\n",
    "    ('rforest', RandomForestClassifier(max_depth = 16, random_state=13))\n",
    "])\n",
    "\n",
    "pipe_cvec_etreest = Pipeline([\n",
    "    ('cvec', CountVectorizer()),\n",
    "    ('etrees', ExtraTreesClassifier(max_depth = 16, random_state=13))\n",
    "])\n",
    "\n",
    "pipe_tfidf_etreest = Pipeline([\n",
    "    ('tfidf', TfidfVectorizer()),\n",
    "    ('etrees', ExtraTreesClassifier(max_depth = 16, random_state=13))\n",
    "])"
   ]
  },
  {
   "cell_type": "markdown",
   "metadata": {},
   "source": [
    "#### Gridsearches"
   ]
  },
  {
   "cell_type": "code",
   "execution_count": 156,
   "metadata": {},
   "outputs": [],
   "source": [
    "#instantiate both\n",
    "gridsearch_cvec = GridSearchCV(pipe_cvec,\n",
    "                              cv_params,\n",
    "                              cv=5,\n",
    "                               n_jobs=-2,\n",
    "                              verbose=0)\n",
    "\n",
    "gridsearch_tfidf = GridSearchCV(pipe_tfidf,\n",
    "                               tfidf_params,\n",
    "                               cv=5,\n",
    "                                n_jobs=-2,\n",
    "                               verbose=0)"
   ]
  },
  {
   "cell_type": "markdown",
   "metadata": {},
   "source": [
    "#### Fit models"
   ]
  },
  {
   "cell_type": "code",
   "execution_count": 278,
   "metadata": {
    "scrolled": false
   },
   "outputs": [
    {
     "name": "stdout",
     "output_type": "stream",
     "text": [
      "best params: {'cvec__max_features': 500, 'cvec__ngram_range': (1, 1), 'cvec__stop_words': None, 'lr__penalty': 'l2'}\n",
      "\n"
     ]
    },
    {
     "ename": "TypeError",
     "evalue": "score() missing 2 required positional arguments: 'X' and 'y'",
     "output_type": "error",
     "traceback": [
      "\u001b[0;31m---------------------------------------------------------------------------\u001b[0m",
      "\u001b[0;31mTypeError\u001b[0m                                 Traceback (most recent call last)",
      "\u001b[0;32m<timed exec>\u001b[0m in \u001b[0;36m<module>\u001b[0;34m\u001b[0m\n",
      "\u001b[0;31mTypeError\u001b[0m: score() missing 2 required positional arguments: 'X' and 'y'"
     ]
    }
   ],
   "source": [
    "%%time\n",
    "#fit\n",
    "gridsearch_cvec.fit(X_train, y_train)\n",
    "# gridsearch_tfidf.fit(X_train, y_train)\n",
    "print(f'best params: {gridsearch_cvec.best_params_}\\n')\n"
   ]
  },
  {
   "cell_type": "code",
   "execution_count": 280,
   "metadata": {
    "scrolled": true
   },
   "outputs": [
    {
     "name": "stdout",
     "output_type": "stream",
     "text": [
      "GridSearchCV(cv=5, error_score=nan,\n",
      "             estimator=Pipeline(memory=None,\n",
      "                                steps=[('cvec',\n",
      "                                        CountVectorizer(analyzer='word',\n",
      "                                                        binary=False,\n",
      "                                                        decode_error='strict',\n",
      "                                                        dtype=<class 'numpy.int64'>,\n",
      "                                                        encoding='utf-8',\n",
      "                                                        input='content',\n",
      "                                                        lowercase=True,\n",
      "                                                        max_df=1.0,\n",
      "                                                        max_features=None,\n",
      "                                                        min_df=1,\n",
      "                                                        ngram_range=(1, 1),\n",
      "                                                        preprocessor=None,\n",
      "                                                        stop_words=None,\n",
      "                                                        strip_accents=None,\n",
      "                                                        token_pattern='(?u)...\n",
      "                         'cvec__stop_words': [None,\n",
      "                                              ['i', 'me', 'my', 'myself', 'we',\n",
      "                                               'our', 'ours', 'ourselves',\n",
      "                                               'you', \"you're\", \"you've\",\n",
      "                                               \"you'll\", \"you'd\", 'your',\n",
      "                                               'yours', 'yourself',\n",
      "                                               'yourselves', 'he', 'him', 'his',\n",
      "                                               'himself', 'she', \"she's\", 'her',\n",
      "                                               'hers', 'herself', 'it', \"it's\",\n",
      "                                               'its', 'itself', ...]],\n",
      "                         'lr__penalty': ['l1', 'l2', 'none']},\n",
      "             pre_dispatch='2*n_jobs', refit=True, return_train_score=False,\n",
      "             scoring=None, verbose=0) test score: 0.87\n",
      "\n",
      "Accuracy: 0.87\n",
      "Sensitivity: 0.879\n",
      "Specificity: 0.861\n",
      "Precision: 0.863\n",
      "GridSearchCV(cv=5, error_score=nan,\n",
      "             estimator=Pipeline(memory=None,\n",
      "                                steps=[('tfidf',\n",
      "                                        TfidfVectorizer(analyzer='word',\n",
      "                                                        binary=False,\n",
      "                                                        decode_error='strict',\n",
      "                                                        dtype=<class 'numpy.float64'>,\n",
      "                                                        encoding='utf-8',\n",
      "                                                        input='content',\n",
      "                                                        lowercase=True,\n",
      "                                                        max_df=1.0,\n",
      "                                                        max_features=None,\n",
      "                                                        min_df=1,\n",
      "                                                        ngram_range=(1, 1),\n",
      "                                                        norm='l2',\n",
      "                                                        preprocessor=None,\n",
      "                                                        smooth_idf=True,\n",
      "                                                        stop_words=None,\n",
      "                                                        strip_acc...\n",
      "                         'tfidf__ngram_range': [(1, 1), (1, 2)],\n",
      "                         'tfidf__stop_words': [None,\n",
      "                                               ['i', 'me', 'my', 'myself', 'we',\n",
      "                                                'our', 'ours', 'ourselves',\n",
      "                                                'you', \"you're\", \"you've\",\n",
      "                                                \"you'll\", \"you'd\", 'your',\n",
      "                                                'yours', 'yourself',\n",
      "                                                'yourselves', 'he', 'him',\n",
      "                                                'his', 'himself', 'she',\n",
      "                                                \"she's\", 'her', 'hers',\n",
      "                                                'herself', 'it', \"it's\", 'its',\n",
      "                                                'itself', ...]]},\n",
      "             pre_dispatch='2*n_jobs', refit=True, return_train_score=False,\n",
      "             scoring=None, verbose=1) test score: 0.87\n",
      "\n",
      "Accuracy: 0.87\n",
      "Sensitivity: 0.874\n",
      "Specificity: 0.865\n",
      "Precision: 0.866\n"
     ]
    }
   ],
   "source": [
    "score(gridsearch_cvec, X_train, y_train)\n",
    "score(gridsearch_tfidf, X_train, y_train)"
   ]
  },
  {
   "cell_type": "markdown",
   "metadata": {},
   "source": [
    "### So far, our gridsearched logistic regressions have not returned good results!"
   ]
  },
  {
   "cell_type": "code",
   "execution_count": 65,
   "metadata": {},
   "outputs": [
    {
     "name": "stdout",
     "output_type": "stream",
     "text": [
      "CVEC grid train score: 0.87\n",
      "CVEC grid test score: 0.868\n",
      "TFIDF grid train score: 0.8697\n",
      "TFIDF grid test score: 0.8678\n"
     ]
    }
   ],
   "source": [
    "#score both\n",
    "print('CVEC grid train score:', np.round(gridsearch_cvec.score(X_train, y_train),4))\n",
    "print('CVEC grid test score:', np.round(gridsearch_cvec.score(X_test, y_test),4))\n",
    "print('TFIDF grid train score:', np.round(gridsearch_tfidf.score(X_train, y_train),4))\n",
    "print('TFIDF grid test score:', np.round(gridsearch_tfidf.score(X_test, y_test),4))\n"
   ]
  },
  {
   "cell_type": "markdown",
   "metadata": {},
   "source": [
    "These preliminary gridsearch results are not that confidence-inspiring"
   ]
  },
  {
   "cell_type": "markdown",
   "metadata": {},
   "source": [
    "#### Logistic Regressions"
   ]
  },
  {
   "cell_type": "code",
   "execution_count": 207,
   "metadata": {
    "scrolled": true
   },
   "outputs": [
    {
     "name": "stdout",
     "output_type": "stream",
     "text": [
      "Pipeline(memory=None,\n",
      "         steps=[('cvec',\n",
      "                 CountVectorizer(analyzer='word', binary=False,\n",
      "                                 decode_error='strict',\n",
      "                                 dtype=<class 'numpy.int64'>, encoding='utf-8',\n",
      "                                 input='content', lowercase=True, max_df=1.0,\n",
      "                                 max_features=None, min_df=1,\n",
      "                                 ngram_range=(1, 1), preprocessor=None,\n",
      "                                 stop_words=None, strip_accents=None,\n",
      "                                 token_pattern='(?u)\\\\b\\\\w\\\\w+\\\\b',\n",
      "                                 tokenizer=None, vocabulary=None)),\n",
      "                ('lr',\n",
      "                 LogisticRegression(C=1.0, class_weight=None, dual=False,\n",
      "                                    fit_intercept=True, intercept_scaling=1,\n",
      "                                    l1_ratio=None, max_iter=1000,\n",
      "                                    multi_class='auto', n_jobs=None,\n",
      "                                    penalty='l2', random_state=None,\n",
      "                                    solver='lbfgs', tol=0.0001, verbose=0,\n",
      "                                    warm_start=False))],\n",
      "         verbose=False) test score: 0.94\n",
      "\n",
      "Accuracy: 0.942\n",
      "Sensitivity: 0.941\n",
      "Specificity: 0.943\n",
      "Precision: 0.943\n",
      "CPU times: user 36.4 s, sys: 2.44 s, total: 38.8 s\n",
      "Wall time: 7.67 s\n"
     ]
    }
   ],
   "source": [
    "%%time\n",
    "pipe_cvec.fit(X_train, y_train)\n",
    "score(pipe_cvec, X_test, y_test)"
   ]
  },
  {
   "cell_type": "markdown",
   "metadata": {},
   "source": [
    "##### The Logistic Regression appears to perform well!"
   ]
  },
  {
   "cell_type": "code",
   "execution_count": 53,
   "metadata": {},
   "outputs": [
    {
     "name": "stdout",
     "output_type": "stream",
     "text": [
      "0.9626057825722821\n",
      "0.941925\n"
     ]
    }
   ],
   "source": [
    "print(pipe_cvec.score(X_train, y_train))\n",
    "print(pipe_cvec.score(X_test, y_test))"
   ]
  },
  {
   "cell_type": "code",
   "execution_count": 206,
   "metadata": {},
   "outputs": [
    {
     "name": "stdout",
     "output_type": "stream",
     "text": [
      "Pipeline(memory=None,\n",
      "         steps=[('cvec',\n",
      "                 CountVectorizer(analyzer='word', binary=False,\n",
      "                                 decode_error='strict',\n",
      "                                 dtype=<class 'numpy.int64'>, encoding='utf-8',\n",
      "                                 input='content', lowercase=True, max_df=1.0,\n",
      "                                 max_features=None, min_df=1,\n",
      "                                 ngram_range=(1, 1), preprocessor=None,\n",
      "                                 stop_words=None, strip_accents=None,\n",
      "                                 token_pattern='(?u)\\\\b\\\\w\\\\w+\\\\b',\n",
      "                                 tokenizer=None, vocabulary=None)),\n",
      "                ('lr',\n",
      "                 LogisticRegression(C=1.0, class_weight=None, dual=False,\n",
      "                                    fit_intercept=True, intercept_scaling=1,\n",
      "                                    l1_ratio=None, max_iter=1000,\n",
      "                                    multi_class='auto', n_jobs=None,\n",
      "                                    penalty='l2', random_state=None,\n",
      "                                    solver='lbfgs', tol=0.0001, verbose=0,\n",
      "                                    warm_start=False))],\n",
      "         verbose=False) test score: 0.94\n",
      "\n",
      "Accuracy: 0.942\n",
      "Sensitivity: 0.941\n",
      "Specificity: 0.943\n",
      "Precision: 0.943\n",
      "CPU times: user 905 ms, sys: 82.3 ms, total: 987 ms\n",
      "Wall time: 996 ms\n"
     ]
    }
   ],
   "source": [
    "%%time\n",
    "score(pipe_cvec, X_test, y_test)"
   ]
  },
  {
   "cell_type": "code",
   "execution_count": 176,
   "metadata": {},
   "outputs": [
    {
     "name": "stdout",
     "output_type": "stream",
     "text": [
      "CPU times: user 19.8 s, sys: 1.46 s, total: 21.3 s\n",
      "Wall time: 4.54 s\n"
     ]
    },
    {
     "data": {
      "text/plain": [
       "Pipeline(memory=None,\n",
       "         steps=[('tfidf',\n",
       "                 TfidfVectorizer(analyzer='word', binary=False,\n",
       "                                 decode_error='strict',\n",
       "                                 dtype=<class 'numpy.float64'>,\n",
       "                                 encoding='utf-8', input='content',\n",
       "                                 lowercase=True, max_df=1.0, max_features=None,\n",
       "                                 min_df=1, ngram_range=(1, 1), norm='l2',\n",
       "                                 preprocessor=None, smooth_idf=True,\n",
       "                                 stop_words=None, strip_accents=None,\n",
       "                                 sublinear_tf=False,\n",
       "                                 token_pattern='(?u)\\\\b\\\\w\\\\w+\\\\b',\n",
       "                                 tokenizer=None, use_idf=True,\n",
       "                                 vocabulary=None)),\n",
       "                ('lr',\n",
       "                 LogisticRegression(C=1.0, class_weight=None, dual=False,\n",
       "                                    fit_intercept=True, intercept_scaling=1,\n",
       "                                    l1_ratio=None, max_iter=1000,\n",
       "                                    multi_class='auto', n_jobs=None,\n",
       "                                    penalty='l2', random_state=None,\n",
       "                                    solver='lbfgs', tol=0.0001, verbose=0,\n",
       "                                    warm_start=False))],\n",
       "         verbose=False)"
      ]
     },
     "execution_count": 176,
     "metadata": {},
     "output_type": "execute_result"
    }
   ],
   "source": [
    "%%time\n",
    "pipe_tfidf.fit(X_train, y_train)"
   ]
  },
  {
   "cell_type": "code",
   "execution_count": 88,
   "metadata": {},
   "outputs": [
    {
     "name": "stdout",
     "output_type": "stream",
     "text": [
      "0.9540369254615683\n",
      "0.93995\n"
     ]
    }
   ],
   "source": [
    "print(pipe_tfidf.score(X_train, y_train))\n",
    "print(pipe_tfidf.score(X_test, y_test))"
   ]
  },
  {
   "cell_type": "markdown",
   "metadata": {},
   "source": [
    "##### The TFIDF vectorizer appears effective as well.\n",
    "\n",
    "- Leaving Extra Trees out of the below cell for now to try to lessen the burden on my machine."
   ]
  },
  {
   "cell_type": "code",
   "execution_count": 283,
   "metadata": {
    "scrolled": true
   },
   "outputs": [
    {
     "name": "stdout",
     "output_type": "stream",
     "text": [
      "cvec rforest train score: 0.8696\n",
      "cvec rforest test score: 0.8635\n"
     ]
    },
    {
     "ename": "NameError",
     "evalue": "name 'pipe_cvec_etrees' is not defined",
     "output_type": "error",
     "traceback": [
      "\u001b[0;31m---------------------------------------------------------------------------\u001b[0m",
      "\u001b[0;31mNameError\u001b[0m                                 Traceback (most recent call last)",
      "\u001b[0;32m<timed exec>\u001b[0m in \u001b[0;36m<module>\u001b[0;34m\u001b[0m\n",
      "\u001b[0;31mNameError\u001b[0m: name 'pipe_cvec_etrees' is not defined"
     ]
    }
   ],
   "source": [
    "%%time\n",
    "pipe_cvec_rforest.fit(X_train, y_train)\n",
    "pipe_tfidf_rforest.fit(X_train, y_train)\n",
    "# pipe_cvec_etrees.fit(X_train, y_train)\n",
    "# pipe_tfidf_etrees.fit(X_train, y_train)\n",
    "print('cvec rforest train score:', np.round(pipe_cvec_rforest.score(X_train, y_train),4))\n",
    "print('cvec rforest test score:', np.round(pipe_cvec_rforest.score(X_test, y_test),4))\n",
    "print('tfidf rforest train score:', np.round(pipe_cvec_etrees.score(X_train, y_train),4))\n",
    "print('tfidf rforest test score:', np.round(pipe_tfidf_etrees.score(X_test, y_test),4))\n",
    "# print('cvec etrees train score:', np.round(pipe_cvec_rforest.score(X_train, y_train),4))\n",
    "# print('cvec etrees test score:', np.round(pipe_tfidf_rforest.score(X_test, y_test),4))\n",
    "# print('tfidf etrees train score:', np.round(pipe_cvec_etrees.score(X_train, y_train),4))\n",
    "# print('tfidf etrees test score:', np.round(pipe_tfidf_etrees.score(X_test, y_test),4))"
   ]
  },
  {
   "cell_type": "markdown",
   "metadata": {},
   "source": [
    "## Random Forest Optimization\n",
    "- Since our above Random Forest models are having trouble running, let's dive into the parameters and see if we can help the model out.\n",
    "\n",
    "#### Optimizing functions based on this excellent blog post by Mohtadi Ben Fraj\n",
    "#### https://medium.com/all-things-ai/in-depth-parameter-tuning-for-random-forest-d67bb7e920d"
   ]
  },
  {
   "cell_type": "code",
   "execution_count": 118,
   "metadata": {},
   "outputs": [
    {
     "data": {
      "image/png": "[encoded data removed]",
      "text/plain": [
       "<Figure size 432x288 with 1 Axes>"
      ]
     },
     "metadata": {
      "needs_background": "light"
     },
     "output_type": "display_data"
    },
    {
     "name": "stdout",
     "output_type": "stream",
     "text": [
      "CPU times: user 51.3 s, sys: 2.41 s, total: 53.7 s\n",
      "Wall time: 11.7 s\n"
     ]
    }
   ],
   "source": [
    "%%time\n",
    "# USING CVEC\n",
    "# N_estimators optimizer\n",
    "n_estimators = [1, 2, 4, 8, 16, 32, 64, 100, 200]\n",
    "train_results = []\n",
    "test_results = []\n",
    "for estimator in n_estimators:\n",
    "   rf = RandomForestClassifier(n_estimators=estimator, max_depth=16, n_jobs=-2)\n",
    "   rf.fit(xtrain_cv, y_train)\n",
    "   train_pred = rf.predict(xtrain_cv)\n",
    "   false_positive_rate, true_positive_rate, thresholds = roc_curve(y_train, train_pred)\n",
    "   roc_auc = auc(false_positive_rate, true_positive_rate)\n",
    "   train_results.append(roc_auc)\n",
    "   y_pred = rf.predict(xtest_cv)\n",
    "   false_positive_rate, true_positive_rate, thresholds = roc_curve(y_test, y_pred)\n",
    "   roc_auc = auc(false_positive_rate, true_positive_rate)\n",
    "   test_results.append(roc_auc)\n",
    "from matplotlib.legend_handler import HandlerLine2D\n",
    "line1, = plt.plot(n_estimators, train_results, 'b', label='Train AUC')\n",
    "line2, = plt.plot(n_estimators, test_results, 'r', label='Test AUC')\n",
    "plt.legend(handler_map={line1: HandlerLine2D(numpoints=2)})\n",
    "plt.ylabel('AUC score')\n",
    "plt.xlabel('n_estimators')\n",
    "plt.show()"
   ]
  },
  {
   "cell_type": "markdown",
   "metadata": {},
   "source": [
    "## Note the above and below graphs are NOT the AUC - ROC curve, but this is a graph of how the AUC - ROC changes as n_estimators change. Clearly the higher the n_estimators, the better."
   ]
  },
  {
   "cell_type": "code",
   "execution_count": 146,
   "metadata": {},
   "outputs": [
    {
     "data": {
      "image/png": "[encoded data removed]",
      "text/plain": [
       "<Figure size 432x288 with 1 Axes>"
      ]
     },
     "metadata": {
      "needs_background": "light"
     },
     "output_type": "display_data"
    },
    {
     "name": "stdout",
     "output_type": "stream",
     "text": [
      "CPU times: user 53 s, sys: 2.32 s, total: 55.3 s\n",
      "Wall time: 11.6 s\n"
     ]
    }
   ],
   "source": [
    "%%time\n",
    "# USING TFIDF\n",
    "# N_estimators optimizer\n",
    "n_estimators = [1, 2, 4, 8, 16, 32, 64, 100, 200]\n",
    "train_results = []\n",
    "test_results = []\n",
    "for estimator in n_estimators:\n",
    "   rf = RandomForestClassifier(n_estimators=estimator, max_depth=16, n_jobs=-2)\n",
    "   rf.fit(xtrain_tf, y_train)\n",
    "   train_pred = rf.predict(xtrain_tf)\n",
    "   false_positive_rate, true_positive_rate, thresholds = roc_curve(y_train, train_pred)\n",
    "   roc_auc = auc(false_positive_rate, true_positive_rate)\n",
    "   train_results.append(roc_auc)\n",
    "   y_pred = rf.predict(xtest_tf)\n",
    "   false_positive_rate, true_positive_rate, thresholds = roc_curve(y_test, y_pred)\n",
    "   roc_auc = auc(false_positive_rate, true_positive_rate)\n",
    "   test_results.append(roc_auc)\n",
    "from matplotlib.legend_handler import HandlerLine2D\n",
    "line1, = plt.plot(n_estimators, train_results, 'b', label='Train AUC')\n",
    "line2, = plt.plot(n_estimators, test_results, 'r', label='Test AUC')\n",
    "plt.legend(handler_map={line1: HandlerLine2D(numpoints=2)})\n",
    "plt.ylabel('AUC score')\n",
    "plt.xlabel('n_estimators')\n",
    "plt.show()"
   ]
  },
  {
   "cell_type": "code",
   "execution_count": 115,
   "metadata": {
    "scrolled": true
   },
   "outputs": [
    {
     "data": {
      "image/png": "[encoded data removed]",
      "text/plain": [
       "<Figure size 432x288 with 1 Axes>"
      ]
     },
     "metadata": {
      "needs_background": "light"
     },
     "output_type": "display_data"
    },
    {
     "name": "stdout",
     "output_type": "stream",
     "text": [
      "CPU times: user 23min 19s, sys: 26.3 s, total: 23min 45s\n",
      "Wall time: 3min 54s\n"
     ]
    }
   ],
   "source": [
    "%%time\n",
    "# USING CVEC\n",
    "# Tree Depth optimizer taken from this Medium blog:\n",
    "# https://medium.com/all-things-ai/in-depth-parameter-tuning-for-random-forest-d67bb7e920d\n",
    "from sklearn.metrics import roc_curve, auc\n",
    "max_depths = np.linspace(1, 50, 50, endpoint=True)\n",
    "train_results = []\n",
    "test_results = []\n",
    "for max_depth in max_depths:\n",
    "   rf = RandomForestClassifier(max_depth=max_depth, n_jobs=-2)\n",
    "   rf.fit(xtrain_cv, y_train)\n",
    "   train_pred = rf.predict(xtrain_cv)\n",
    "   false_positive_rate, true_positive_rate, thresholds = roc_curve(y_train, train_pred)\n",
    "   roc_auc = auc(false_positive_rate, true_positive_rate)\n",
    "   train_results.append(roc_auc)\n",
    "   y_pred = rf.predict(xtest_cv)\n",
    "   false_positive_rate, true_positive_rate, thresholds = roc_curve(y_test, y_pred)\n",
    "   roc_auc = auc(false_positive_rate, true_positive_rate)\n",
    "   test_results.append(roc_auc)\n",
    "from matplotlib.legend_handler import HandlerLine2D\n",
    "line1, = plt.plot(max_depths, train_results, 'b', label='Train AUC')\n",
    "line2, = plt.plot(max_depths, test_results, 'r', label='Test AUC')\n",
    "plt.legend(handler_map={line1: HandlerLine2D(numpoints=2)})\n",
    "plt.ylabel('AUC score')\n",
    "plt.xlabel('Tree depth')\n",
    "plt.show()"
   ]
  },
  {
   "cell_type": "markdown",
   "metadata": {},
   "source": [
    "As the tree depth grows, our models become more effective based on AUC, however they do eventually become overfit."
   ]
  },
  {
   "cell_type": "code",
   "execution_count": 147,
   "metadata": {},
   "outputs": [
    {
     "data": {
      "image/png": "[encoded data removed]",
      "text/plain": [
       "<Figure size 432x288 with 1 Axes>"
      ]
     },
     "metadata": {
      "needs_background": "light"
     },
     "output_type": "display_data"
    },
    {
     "name": "stdout",
     "output_type": "stream",
     "text": [
      "CPU times: user 23min 40s, sys: 26.6 s, total: 24min 6s\n",
      "Wall time: 3min 59s\n"
     ]
    }
   ],
   "source": [
    "%%time\n",
    "# USING TFIDF\n",
    "# Tree Depth optimizer taken from this Medium blog:\n",
    "# https://medium.com/all-things-ai/in-depth-parameter-tuning-for-random-forest-d67bb7e920d\n",
    "from sklearn.metrics import roc_curve, auc\n",
    "max_depths = np.linspace(1, 50, 50, endpoint=True)\n",
    "train_results = []\n",
    "test_results = []\n",
    "for max_depth in max_depths:\n",
    "   rf = RandomForestClassifier(max_depth=max_depth, n_jobs=-2)\n",
    "   rf.fit(xtrain_tf, y_train)\n",
    "   train_pred = rf.predict(xtrain_tf)\n",
    "   false_positive_rate, true_positive_rate, thresholds = roc_curve(y_train, train_pred)\n",
    "   roc_auc = auc(false_positive_rate, true_positive_rate)\n",
    "   train_results.append(roc_auc)\n",
    "   y_pred = rf.predict(xtest_tf)\n",
    "   false_positive_rate, true_positive_rate, thresholds = roc_curve(y_test, y_pred)\n",
    "   roc_auc = auc(false_positive_rate, true_positive_rate)\n",
    "   test_results.append(roc_auc)\n",
    "from matplotlib.legend_handler import HandlerLine2D\n",
    "line1, = plt.plot(max_depths, train_results, 'b', label='Train AUC')\n",
    "line2, = plt.plot(max_depths, test_results, 'r', label='Test AUC')\n",
    "plt.legend(handler_map={line1: HandlerLine2D(numpoints=2)})\n",
    "plt.ylabel('AUC score')\n",
    "plt.xlabel('Tree depth')\n",
    "plt.show()"
   ]
  },
  {
   "cell_type": "code",
   "execution_count": 119,
   "metadata": {
    "scrolled": false
   },
   "outputs": [
    {
     "data": {
      "image/png": "[encoded data removed]",
      "text/plain": [
       "<Figure size 432x288 with 1 Axes>"
      ]
     },
     "metadata": {
      "needs_background": "light"
     },
     "output_type": "display_data"
    },
    {
     "name": "stdout",
     "output_type": "stream",
     "text": [
      "CPU times: user 1min 18s, sys: 2.37 s, total: 1min 20s\n",
      "Wall time: 1min 20s\n"
     ]
    }
   ],
   "source": [
    "%%time\n",
    "# USING CVEC\n",
    "# Min Samples split optimizer taken from this Medium blog:\n",
    "# https://medium.com/all-things-ai/in-depth-parameter-tuning-for-random-forest-d67bb7e920d\n",
    "\n",
    "min_samples_splits = np.linspace(0.01, 0.7, 20, endpoint=True)\n",
    "train_results = []\n",
    "test_results = []\n",
    "for min_samples_split in min_samples_splits:\n",
    "   rf = RandomForestClassifier(min_samples_split=min_samples_split, max_depth=16)\n",
    "   rf.fit(xtrain_cv, y_train)\n",
    "   train_pred = rf.predict(xtrain_cv)\n",
    "   false_positive_rate, true_positive_rate, thresholds = roc_curve(y_train, train_pred)\n",
    "   roc_auc = auc(false_positive_rate, true_positive_rate)\n",
    "   train_results.append(roc_auc)\n",
    "   y_pred = rf.predict(xtest_cv)\n",
    "   false_positive_rate, true_positive_rate, thresholds = roc_curve(y_test, y_pred)\n",
    "   roc_auc = auc(false_positive_rate, true_positive_rate)\n",
    "   test_results.append(roc_auc)\n",
    "from matplotlib.legend_handler import HandlerLine2D\n",
    "line1, = plt.plot(min_samples_splits, train_results, 'b', label='Train AUC')\n",
    "line2, = plt.plot(min_samples_splits, test_results, 'r', label='Test AUC')\n",
    "plt.legend(handler_map={line1: HandlerLine2D(numpoints=2)})\n",
    "plt.ylabel('AUC score')\n",
    "plt.xlabel('min samples split')\n",
    "plt.show()"
   ]
  },
  {
   "cell_type": "markdown",
   "metadata": {},
   "source": [
    "Clearly we cannot have a min samples split above 0.5 - 0.6."
   ]
  },
  {
   "cell_type": "code",
   "execution_count": 148,
   "metadata": {
    "scrolled": true
   },
   "outputs": [
    {
     "data": {
      "image/png": "[encoded data removed]",
      "text/plain": [
       "<Figure size 432x288 with 1 Axes>"
      ]
     },
     "metadata": {
      "needs_background": "light"
     },
     "output_type": "display_data"
    },
    {
     "name": "stdout",
     "output_type": "stream",
     "text": [
      "CPU times: user 1min 25s, sys: 2.37 s, total: 1min 28s\n",
      "Wall time: 1min 28s\n"
     ]
    }
   ],
   "source": [
    "%%time\n",
    "# USING TFIDF\n",
    "# Min Samples split optimizer taken from this Medium blog:\n",
    "# https://medium.com/all-things-ai/in-depth-parameter-tuning-for-random-forest-d67bb7e920d\n",
    "\n",
    "min_samples_splits = np.linspace(0.01, 0.7, 20, endpoint=True)\n",
    "train_results = []\n",
    "test_results = []\n",
    "for min_samples_split in min_samples_splits:\n",
    "   rf = RandomForestClassifier(min_samples_split=min_samples_split, max_depth=16)\n",
    "   rf.fit(xtrain_tf, y_train)\n",
    "   train_pred = rf.predict(xtrain_tf)\n",
    "   false_positive_rate, true_positive_rate, thresholds = roc_curve(y_train, train_pred)\n",
    "   roc_auc = auc(false_positive_rate, true_positive_rate)\n",
    "   train_results.append(roc_auc)\n",
    "   y_pred = rf.predict(xtest_tf)\n",
    "   false_positive_rate, true_positive_rate, thresholds = roc_curve(y_test, y_pred)\n",
    "   roc_auc = auc(false_positive_rate, true_positive_rate)\n",
    "   test_results.append(roc_auc)\n",
    "from matplotlib.legend_handler import HandlerLine2D\n",
    "line1, = plt.plot(min_samples_splits, train_results, 'b', label='Train AUC')\n",
    "line2, = plt.plot(min_samples_splits, test_results, 'r', label='Test AUC')\n",
    "plt.legend(handler_map={line1: HandlerLine2D(numpoints=2)})\n",
    "plt.ylabel('AUC score')\n",
    "plt.xlabel('min samples split')\n",
    "plt.show()"
   ]
  },
  {
   "cell_type": "code",
   "execution_count": 123,
   "metadata": {},
   "outputs": [
    {
     "data": {
      "text/plain": [
       "array([0.01, 0.02, 0.03, 0.04, 0.05, 0.06, 0.07, 0.08, 0.09, 0.1 , 0.11,\n",
       "       0.12, 0.13, 0.14, 0.15, 0.16, 0.17, 0.18, 0.19, 0.2 ])"
      ]
     },
     "execution_count": 123,
     "metadata": {},
     "output_type": "execute_result"
    }
   ],
   "source": [
    "np.linspace(0.01, 0.2, 20, endpoint=True)"
   ]
  },
  {
   "cell_type": "code",
   "execution_count": 282,
   "metadata": {
    "scrolled": true
   },
   "outputs": [
    {
     "data": {
      "text/plain": [
       "array([ 0.01      ,  0.0143845 ,  0.02069138,  0.02976351,  0.04281332,\n",
       "        0.06158482,  0.08858668,  0.1274275 ,  0.18329807,  0.26366509,\n",
       "        0.37926902,  0.54555948,  0.78475997,  1.12883789,  1.62377674,\n",
       "        2.33572147,  3.35981829,  4.83293024,  6.95192796, 10.        ])"
      ]
     },
     "execution_count": 282,
     "metadata": {},
     "output_type": "execute_result"
    }
   ],
   "source": [
    "np.logspace(-2, 1, 20, endpoint=True)"
   ]
  },
  {
   "cell_type": "markdown",
   "metadata": {},
   "source": [
    "Here I was attempting to develop a \"logspace\" to create more values between 0.0 and 0.1, however the line of code was not accepting of these values, possibly the quantity of digits gave it trouble."
   ]
  },
  {
   "cell_type": "code",
   "execution_count": 144,
   "metadata": {
    "scrolled": true
   },
   "outputs": [
    {
     "data": {
      "image/png": "[encoded data removed]",
      "text/plain": [
       "<Figure size 432x288 with 1 Axes>"
      ]
     },
     "metadata": {
      "needs_background": "light"
     },
     "output_type": "display_data"
    },
    {
     "name": "stdout",
     "output_type": "stream",
     "text": [
      "CPU times: user 53.1 s, sys: 2.39 s, total: 55.5 s\n",
      "Wall time: 55.5 s\n"
     ]
    }
   ],
   "source": [
    "%%time\n",
    "# USING CVEC\n",
    "# Min Samples leaf optimizer taken from this Medium blog:\n",
    "# https://medium.com/all-things-ai/in-depth-parameter-tuning-for-random-forest-d67bb7e920d\n",
    "\n",
    "min_samples_leafs = np.linspace(0.0001, 0.05, 20, endpoint=True)\n",
    "train_results = []\n",
    "test_results = []\n",
    "for min_samples_leaf in min_samples_leafs:\n",
    "   rf = RandomForestClassifier(min_samples_leaf=min_samples_leaf, max_depth=16)\n",
    "   rf.fit(xtrain_cv, y_train)\n",
    "   train_pred = rf.predict(xtrain_cv)\n",
    "   false_positive_rate, true_positive_rate, thresholds = roc_curve(y_train, train_pred)\n",
    "   roc_auc = auc(false_positive_rate, true_positive_rate)\n",
    "   train_results.append(roc_auc)\n",
    "   y_pred = rf.predict(xtest_cv)\n",
    "   false_positive_rate, true_positive_rate, thresholds = roc_curve(y_test, y_pred)\n",
    "   roc_auc = auc(false_positive_rate, true_positive_rate)\n",
    "   test_results.append(roc_auc)\n",
    "from matplotlib.legend_handler import HandlerLine2D\n",
    "line1, = plt.plot(min_samples_leafs, train_results, 'b', label='Train AUC')\n",
    "line2, = plt.plot(min_samples_leafs, test_results, 'r', label='Test AUC')\n",
    "plt.legend(handler_map={line1: HandlerLine2D(numpoints=2)})\n",
    "plt.ylabel('AUC score')\n",
    "plt.xlabel('min samples leaf')\n",
    "plt.show()"
   ]
  },
  {
   "cell_type": "code",
   "execution_count": 149,
   "metadata": {},
   "outputs": [
    {
     "data": {
      "image/png": "[encoded data removed]",
      "text/plain": [
       "<Figure size 432x288 with 1 Axes>"
      ]
     },
     "metadata": {
      "needs_background": "light"
     },
     "output_type": "display_data"
    },
    {
     "name": "stdout",
     "output_type": "stream",
     "text": [
      "CPU times: user 55 s, sys: 2.38 s, total: 57.4 s\n",
      "Wall time: 57.5 s\n"
     ]
    }
   ],
   "source": [
    "%%time\n",
    "# USING TFIDF\n",
    "# Min Samples leaf optimizer taken from this Medium blog:\n",
    "# https://medium.com/all-things-ai/in-depth-parameter-tuning-for-random-forest-d67bb7e920d\n",
    "\n",
    "min_samples_leafs = np.linspace(0.0001, 0.05, 20, endpoint=True)\n",
    "train_results = []\n",
    "test_results = []\n",
    "for min_samples_leaf in min_samples_leafs:\n",
    "   rf = RandomForestClassifier(min_samples_leaf=min_samples_leaf, max_depth=16)\n",
    "   rf.fit(xtrain_tf, y_train)\n",
    "   train_pred = rf.predict(xtrain_tf)\n",
    "   false_positive_rate, true_positive_rate, thresholds = roc_curve(y_train, train_pred)\n",
    "   roc_auc = auc(false_positive_rate, true_positive_rate)\n",
    "   train_results.append(roc_auc)\n",
    "   y_pred = rf.predict(xtest_tf)\n",
    "   false_positive_rate, true_positive_rate, thresholds = roc_curve(y_test, y_pred)\n",
    "   roc_auc = auc(false_positive_rate, true_positive_rate)\n",
    "   test_results.append(roc_auc)\n",
    "from matplotlib.legend_handler import HandlerLine2D\n",
    "line1, = plt.plot(min_samples_leafs, train_results, 'b', label='Train AUC')\n",
    "line2, = plt.plot(min_samples_leafs, test_results, 'r', label='Test AUC')\n",
    "plt.legend(handler_map={line1: HandlerLine2D(numpoints=2)})\n",
    "plt.ylabel('AUC score')\n",
    "plt.xlabel('min samples leaf')\n",
    "plt.show()"
   ]
  },
  {
   "cell_type": "code",
   "execution_count": 121,
   "metadata": {
    "scrolled": false
   },
   "outputs": [
    {
     "data": {
      "image/png": "[encoded data removed]",
      "text/plain": [
       "<Figure size 432x288 with 1 Axes>"
      ]
     },
     "metadata": {
      "needs_background": "light"
     },
     "output_type": "display_data"
    },
    {
     "name": "stdout",
     "output_type": "stream",
     "text": [
      "CPU times: user 7min, sys: 11.3 s, total: 7min 11s\n",
      "Wall time: 7min 12s\n"
     ]
    }
   ],
   "source": [
    "%%time\n",
    "# USING CVEC\n",
    "# Max features optimizer taken from this Medium blog:\n",
    "# https://medium.com/all-things-ai/in-depth-parameter-tuning-for-random-forest-d67bb7e920d\n",
    "\n",
    "max_features = list(range(1,100))\n",
    "train_results = []\n",
    "test_results = []\n",
    "for max_feature in max_features:\n",
    "   rf = RandomForestClassifier(max_features=max_feature, max_depth=16)\n",
    "   rf.fit(xtrain_cv, y_train)\n",
    "   train_pred = rf.predict(xtrain_cv)\n",
    "   false_positive_rate, true_positive_rate, thresholds = roc_curve(y_train, train_pred)\n",
    "   roc_auc = auc(false_positive_rate, true_positive_rate)\n",
    "   train_results.append(roc_auc)\n",
    "   y_pred = rf.predict(xtest_cv)\n",
    "   false_positive_rate, true_positive_rate, thresholds = roc_curve(y_test, y_pred)\n",
    "   roc_auc = auc(false_positive_rate, true_positive_rate)\n",
    "   test_results.append(roc_auc)\n",
    "from matplotlib.legend_handler import HandlerLine2D\n",
    "line1, = plt.plot(max_features, train_results, 'b', label='Train AUC')\n",
    "line2, = plt.plot(max_features, test_results, 'r', label='Test AUC')\n",
    "plt.legend(handler_map={line1: HandlerLine2D(numpoints=2)})\n",
    "plt.ylabel('AUC score')\n",
    "plt.xlabel('max features')\n",
    "plt.show()"
   ]
  },
  {
   "cell_type": "markdown",
   "metadata": {},
   "source": [
    "We clearly benefit from adding at least 40-60 features."
   ]
  },
  {
   "cell_type": "code",
   "execution_count": 150,
   "metadata": {
    "scrolled": true
   },
   "outputs": [
    {
     "data": {
      "image/png": "[encoded data removed]",
      "text/plain": [
       "<Figure size 432x288 with 1 Axes>"
      ]
     },
     "metadata": {
      "needs_background": "light"
     },
     "output_type": "display_data"
    },
    {
     "name": "stdout",
     "output_type": "stream",
     "text": [
      "CPU times: user 7min 31s, sys: 13.1 s, total: 7min 44s\n",
      "Wall time: 7min 51s\n"
     ]
    }
   ],
   "source": [
    "%%time\n",
    "# USING TFIDF\n",
    "# Max features optimizer taken from this Medium blog:\n",
    "# https://medium.com/all-things-ai/in-depth-parameter-tuning-for-random-forest-d67bb7e920d\n",
    "\n",
    "max_features = list(range(1,100))\n",
    "train_results = []\n",
    "test_results = []\n",
    "for max_feature in max_features:\n",
    "   rf = RandomForestClassifier(max_features=max_feature, max_depth=16)\n",
    "   rf.fit(xtrain_tf, y_train)\n",
    "   train_pred = rf.predict(xtrain_tf)\n",
    "   false_positive_rate, true_positive_rate, thresholds = roc_curve(y_train, train_pred)\n",
    "   roc_auc = auc(false_positive_rate, true_positive_rate)\n",
    "   train_results.append(roc_auc)\n",
    "   y_pred = rf.predict(xtest_tf)\n",
    "   false_positive_rate, true_positive_rate, thresholds = roc_curve(y_test, y_pred)\n",
    "   roc_auc = auc(false_positive_rate, true_positive_rate)\n",
    "   test_results.append(roc_auc)\n",
    "from matplotlib.legend_handler import HandlerLine2D\n",
    "line1, = plt.plot(max_features, train_results, 'b', label='Train AUC')\n",
    "line2, = plt.plot(max_features, test_results, 'r', label='Test AUC')\n",
    "plt.legend(handler_map={line1: HandlerLine2D(numpoints=2)})\n",
    "plt.ylabel('AUC score')\n",
    "plt.xlabel('max features')\n",
    "plt.show()"
   ]
  },
  {
   "cell_type": "markdown",
   "metadata": {},
   "source": [
    "### Multinomial Naive-Bayes"
   ]
  },
  {
   "cell_type": "code",
   "execution_count": 259,
   "metadata": {},
   "outputs": [
    {
     "name": "stdout",
     "output_type": "stream",
     "text": [
      "MultinomialNB(alpha=1.0, class_prior=None, fit_prior=True) test score: 0.95\n",
      "\n",
      "Accuracy: 0.949\n",
      "Sensitivity: 0.947\n",
      "Specificity: 0.952\n",
      "Precision: 0.952\n",
      "None\n",
      "MultinomialNB(alpha=1.0, class_prior=None, fit_prior=True) test score: 0.94\n",
      "\n",
      "Accuracy: 0.94\n",
      "Sensitivity: 0.935\n",
      "Specificity: 0.944\n",
      "Precision: 0.944\n",
      "None\n",
      "CPU times: user 207 ms, sys: 16.7 ms, total: 223 ms\n",
      "Wall time: 221 ms\n"
     ]
    }
   ],
   "source": [
    "%%time\n",
    "# Instantiate two for CVEC and TFIDF\n",
    "mnb_cv = MultinomialNB()\n",
    "# mnb_tf = MultinomialNB()\n",
    "\n",
    "# Fit both\n",
    "mnb_cv.fit(xtrain_cv, y_train)\n",
    "# mnb_tf.fit(xtrain_tf, y_train)\n",
    "\n",
    "print(score(mnb_cv, xtrain_cv, y_train))\n",
    "print(score(mnb_cv, xtest_cv, y_test))\n",
    "# print(score(mnb_tf, xtrain_tf, y_train))\n",
    "# print(score(mnb_tf, xtest_tf, y_test))"
   ]
  },
  {
   "cell_type": "markdown",
   "metadata": {},
   "source": [
    "This looks pretty good! And the difference between training and testing is small."
   ]
  },
  {
   "cell_type": "markdown",
   "metadata": {},
   "source": [
    "### Gaussian Naive-Bayes"
   ]
  },
  {
   "cell_type": "code",
   "execution_count": 210,
   "metadata": {
    "scrolled": true
   },
   "outputs": [
    {
     "ename": "TypeError",
     "evalue": "A sparse matrix was passed, but dense data is required. Use X.toarray() to convert to a dense numpy array.",
     "output_type": "error",
     "traceback": [
      "\u001b[0;31m---------------------------------------------------------------------------\u001b[0m",
      "\u001b[0;31mTypeError\u001b[0m                                 Traceback (most recent call last)",
      "\u001b[0;32m<ipython-input-210-ef7100d66253>\u001b[0m in \u001b[0;36m<module>\u001b[0;34m\u001b[0m\n\u001b[1;32m      3\u001b[0m \u001b[0;34m\u001b[0m\u001b[0m\n\u001b[1;32m      4\u001b[0m \u001b[0;31m# gnb_cv.fit(xtrain_cv, y_train)\u001b[0m\u001b[0;34m\u001b[0m\u001b[0;34m\u001b[0m\u001b[0;34m\u001b[0m\u001b[0m\n\u001b[0;32m----> 5\u001b[0;31m \u001b[0mgnb_tf\u001b[0m\u001b[0;34m.\u001b[0m\u001b[0mfit\u001b[0m\u001b[0;34m(\u001b[0m\u001b[0mxtrain_tf\u001b[0m\u001b[0;34m,\u001b[0m \u001b[0my_train\u001b[0m\u001b[0;34m)\u001b[0m\u001b[0;34m\u001b[0m\u001b[0;34m\u001b[0m\u001b[0m\n\u001b[0m\u001b[1;32m      6\u001b[0m \u001b[0;34m\u001b[0m\u001b[0m\n\u001b[1;32m      7\u001b[0m \u001b[0;31m# print(score(mnb_cv, xtrain_cv, y_train))\u001b[0m\u001b[0;34m\u001b[0m\u001b[0;34m\u001b[0m\u001b[0;34m\u001b[0m\u001b[0m\n",
      "\u001b[0;32m~/anaconda3/lib/python3.7/site-packages/sklearn/naive_bayes.py\u001b[0m in \u001b[0;36mfit\u001b[0;34m(self, X, y, sample_weight)\u001b[0m\n\u001b[1;32m    206\u001b[0m         \u001b[0my\u001b[0m \u001b[0;34m=\u001b[0m \u001b[0mcolumn_or_1d\u001b[0m\u001b[0;34m(\u001b[0m\u001b[0my\u001b[0m\u001b[0;34m,\u001b[0m \u001b[0mwarn\u001b[0m\u001b[0;34m=\u001b[0m\u001b[0;32mTrue\u001b[0m\u001b[0;34m)\u001b[0m\u001b[0;34m\u001b[0m\u001b[0;34m\u001b[0m\u001b[0m\n\u001b[1;32m    207\u001b[0m         return self._partial_fit(X, y, np.unique(y), _refit=True,\n\u001b[0;32m--> 208\u001b[0;31m                                  sample_weight=sample_weight)\n\u001b[0m\u001b[1;32m    209\u001b[0m \u001b[0;34m\u001b[0m\u001b[0m\n\u001b[1;32m    210\u001b[0m     \u001b[0;32mdef\u001b[0m \u001b[0m_check_X\u001b[0m\u001b[0;34m(\u001b[0m\u001b[0mself\u001b[0m\u001b[0;34m,\u001b[0m \u001b[0mX\u001b[0m\u001b[0;34m)\u001b[0m\u001b[0;34m:\u001b[0m\u001b[0;34m\u001b[0m\u001b[0;34m\u001b[0m\u001b[0m\n",
      "\u001b[0;32m~/anaconda3/lib/python3.7/site-packages/sklearn/naive_bayes.py\u001b[0m in \u001b[0;36m_partial_fit\u001b[0;34m(self, X, y, classes, _refit, sample_weight)\u001b[0m\n\u001b[1;32m    357\u001b[0m         \u001b[0mself\u001b[0m \u001b[0;34m:\u001b[0m \u001b[0mobject\u001b[0m\u001b[0;34m\u001b[0m\u001b[0;34m\u001b[0m\u001b[0m\n\u001b[1;32m    358\u001b[0m         \"\"\"\n\u001b[0;32m--> 359\u001b[0;31m         \u001b[0mX\u001b[0m\u001b[0;34m,\u001b[0m \u001b[0my\u001b[0m \u001b[0;34m=\u001b[0m \u001b[0mcheck_X_y\u001b[0m\u001b[0;34m(\u001b[0m\u001b[0mX\u001b[0m\u001b[0;34m,\u001b[0m \u001b[0my\u001b[0m\u001b[0;34m)\u001b[0m\u001b[0;34m\u001b[0m\u001b[0;34m\u001b[0m\u001b[0m\n\u001b[0m\u001b[1;32m    360\u001b[0m         \u001b[0;32mif\u001b[0m \u001b[0msample_weight\u001b[0m \u001b[0;32mis\u001b[0m \u001b[0;32mnot\u001b[0m \u001b[0;32mNone\u001b[0m\u001b[0;34m:\u001b[0m\u001b[0;34m\u001b[0m\u001b[0;34m\u001b[0m\u001b[0m\n\u001b[1;32m    361\u001b[0m             \u001b[0msample_weight\u001b[0m \u001b[0;34m=\u001b[0m \u001b[0m_check_sample_weight\u001b[0m\u001b[0;34m(\u001b[0m\u001b[0msample_weight\u001b[0m\u001b[0;34m,\u001b[0m \u001b[0mX\u001b[0m\u001b[0;34m)\u001b[0m\u001b[0;34m\u001b[0m\u001b[0;34m\u001b[0m\u001b[0m\n",
      "\u001b[0;32m~/anaconda3/lib/python3.7/site-packages/sklearn/utils/validation.py\u001b[0m in \u001b[0;36mcheck_X_y\u001b[0;34m(X, y, accept_sparse, accept_large_sparse, dtype, order, copy, force_all_finite, ensure_2d, allow_nd, multi_output, ensure_min_samples, ensure_min_features, y_numeric, warn_on_dtype, estimator)\u001b[0m\n\u001b[1;32m    753\u001b[0m                     \u001b[0mensure_min_features\u001b[0m\u001b[0;34m=\u001b[0m\u001b[0mensure_min_features\u001b[0m\u001b[0;34m,\u001b[0m\u001b[0;34m\u001b[0m\u001b[0;34m\u001b[0m\u001b[0m\n\u001b[1;32m    754\u001b[0m                     \u001b[0mwarn_on_dtype\u001b[0m\u001b[0;34m=\u001b[0m\u001b[0mwarn_on_dtype\u001b[0m\u001b[0;34m,\u001b[0m\u001b[0;34m\u001b[0m\u001b[0;34m\u001b[0m\u001b[0m\n\u001b[0;32m--> 755\u001b[0;31m                     estimator=estimator)\n\u001b[0m\u001b[1;32m    756\u001b[0m     \u001b[0;32mif\u001b[0m \u001b[0mmulti_output\u001b[0m\u001b[0;34m:\u001b[0m\u001b[0;34m\u001b[0m\u001b[0;34m\u001b[0m\u001b[0m\n\u001b[1;32m    757\u001b[0m         y = check_array(y, 'csr', force_all_finite=True, ensure_2d=False,\n",
      "\u001b[0;32m~/anaconda3/lib/python3.7/site-packages/sklearn/utils/validation.py\u001b[0m in \u001b[0;36mcheck_array\u001b[0;34m(array, accept_sparse, accept_large_sparse, dtype, order, copy, force_all_finite, ensure_2d, allow_nd, ensure_min_samples, ensure_min_features, warn_on_dtype, estimator)\u001b[0m\n\u001b[1;32m    509\u001b[0m                                       \u001b[0mdtype\u001b[0m\u001b[0;34m=\u001b[0m\u001b[0mdtype\u001b[0m\u001b[0;34m,\u001b[0m \u001b[0mcopy\u001b[0m\u001b[0;34m=\u001b[0m\u001b[0mcopy\u001b[0m\u001b[0;34m,\u001b[0m\u001b[0;34m\u001b[0m\u001b[0;34m\u001b[0m\u001b[0m\n\u001b[1;32m    510\u001b[0m                                       \u001b[0mforce_all_finite\u001b[0m\u001b[0;34m=\u001b[0m\u001b[0mforce_all_finite\u001b[0m\u001b[0;34m,\u001b[0m\u001b[0;34m\u001b[0m\u001b[0;34m\u001b[0m\u001b[0m\n\u001b[0;32m--> 511\u001b[0;31m                                       accept_large_sparse=accept_large_sparse)\n\u001b[0m\u001b[1;32m    512\u001b[0m     \u001b[0;32melse\u001b[0m\u001b[0;34m:\u001b[0m\u001b[0;34m\u001b[0m\u001b[0;34m\u001b[0m\u001b[0m\n\u001b[1;32m    513\u001b[0m         \u001b[0;31m# If np.array(..) gives ComplexWarning, then we convert the warning\u001b[0m\u001b[0;34m\u001b[0m\u001b[0;34m\u001b[0m\u001b[0;34m\u001b[0m\u001b[0m\n",
      "\u001b[0;32m~/anaconda3/lib/python3.7/site-packages/sklearn/utils/validation.py\u001b[0m in \u001b[0;36m_ensure_sparse_format\u001b[0;34m(spmatrix, accept_sparse, dtype, copy, force_all_finite, accept_large_sparse)\u001b[0m\n\u001b[1;32m    304\u001b[0m \u001b[0;34m\u001b[0m\u001b[0m\n\u001b[1;32m    305\u001b[0m     \u001b[0;32mif\u001b[0m \u001b[0maccept_sparse\u001b[0m \u001b[0;32mis\u001b[0m \u001b[0;32mFalse\u001b[0m\u001b[0;34m:\u001b[0m\u001b[0;34m\u001b[0m\u001b[0;34m\u001b[0m\u001b[0m\n\u001b[0;32m--> 306\u001b[0;31m         raise TypeError('A sparse matrix was passed, but dense '\n\u001b[0m\u001b[1;32m    307\u001b[0m                         \u001b[0;34m'data is required. Use X.toarray() to '\u001b[0m\u001b[0;34m\u001b[0m\u001b[0;34m\u001b[0m\u001b[0m\n\u001b[1;32m    308\u001b[0m                         'convert to a dense numpy array.')\n",
      "\u001b[0;31mTypeError\u001b[0m: A sparse matrix was passed, but dense data is required. Use X.toarray() to convert to a dense numpy array."
     ]
    }
   ],
   "source": [
    "gnb_cv = GaussianNB()\n",
    "gnb_tf = GaussianNB()\n",
    "\n",
    "# gnb_cv.fit(xtrain_cv, y_train)\n",
    "gnb_tf.fit(xtrain_tf, y_train)\n",
    "\n",
    "# print(score(mnb_cv, xtrain_cv, y_train))\n",
    "# print(score(mnb_cv, xtest_cv, y_test))\n",
    "print(score(mnb_tf, xtrain_tf, y_train))\n",
    "print(score(mnb_tf, xtest_tf, y_test))"
   ]
  },
  {
   "cell_type": "markdown",
   "metadata": {},
   "source": [
    "I was not able to get the Gaussian Naive Bayes model to work properly."
   ]
  },
  {
   "cell_type": "markdown",
   "metadata": {},
   "source": [
    "### Support Vector Model"
   ]
  },
  {
   "cell_type": "code",
   "execution_count": 241,
   "metadata": {},
   "outputs": [],
   "source": [
    "# Instantiate\n",
    "svm = LinearSVC()"
   ]
  },
  {
   "cell_type": "code",
   "execution_count": 261,
   "metadata": {},
   "outputs": [
    {
     "data": {
      "text/plain": [
       "Pipeline(memory=None,\n",
       "         steps=[('cvec',\n",
       "                 CountVectorizer(analyzer='word', binary=False,\n",
       "                                 decode_error='strict',\n",
       "                                 dtype=<class 'numpy.int64'>, encoding='utf-8',\n",
       "                                 input='content', lowercase=True, max_df=1.0,\n",
       "                                 max_features=None, min_df=1,\n",
       "                                 ngram_range=(1, 1), preprocessor=None,\n",
       "                                 stop_words=None, strip_accents=None,\n",
       "                                 token_pattern='(?u)\\\\b\\\\w\\\\w+\\\\b',\n",
       "                                 tokenizer=None, vocabulary=None)),\n",
       "                ('svm',\n",
       "                 LinearSVC(C=0.1, class_weight=None, dual=True,\n",
       "                           fit_intercept=True, intercept_scaling=1,\n",
       "                           loss='squared_hinge', max_iter=1000,\n",
       "                           multi_class='ovr', penalty='l2', random_state=None,\n",
       "                           tol=0.0001, verbose=0))],\n",
       "         verbose=False)"
      ]
     },
     "execution_count": 261,
     "metadata": {},
     "output_type": "execute_result"
    }
   ],
   "source": [
    "# Create pipeline\n",
    "svm_pipe = Pipeline([\n",
    "    ('cvec', CountVectorizer()),\n",
    "    ('svm', LinearSVC(C=0.1))\n",
    "])\n",
    "svm_pipe.fit(X_train, y_train)"
   ]
  },
  {
   "cell_type": "code",
   "execution_count": 247,
   "metadata": {},
   "outputs": [],
   "source": [
    "# Set up Parameters\n",
    "svm_params = {\"C\": np.linspace(0.0001,1,20)}\n",
    "# \"C\": np.linspace(0.1,1,2)\n",
    "#     'kernel': ['rbf', 'linear', 'poly', 'sigmoid', 'precomputed']"
   ]
  },
  {
   "cell_type": "code",
   "execution_count": 248,
   "metadata": {},
   "outputs": [
    {
     "name": "stderr",
     "output_type": "stream",
     "text": [
      "/Users/colinsimon/anaconda3/lib/python3.7/site-packages/sklearn/svm/_base.py:947: ConvergenceWarning: Liblinear failed to converge, increase the number of iterations.\n",
      "  \"the number of iterations.\", ConvergenceWarning)\n"
     ]
    },
    {
     "data": {
      "text/plain": [
       "GridSearchCV(cv=5, error_score=nan,\n",
       "             estimator=LinearSVC(C=1.0, class_weight=None, dual=True,\n",
       "                                 fit_intercept=True, intercept_scaling=1,\n",
       "                                 loss='squared_hinge', max_iter=1000,\n",
       "                                 multi_class='ovr', penalty='l2',\n",
       "                                 random_state=None, tol=0.0001, verbose=0),\n",
       "             iid='deprecated', n_jobs=None,\n",
       "             param_grid={'C': array([1.00000000e-04, 5.27263158e-02, 1.05352632e-01, 1.57978947e-01,\n",
       "       2.10605263e-01, 2.63231579e-01, 3.15857895e-01, 3.68484211e-01,\n",
       "       4.21110526e-01, 4.73736842e-01, 5.26363158e-01, 5.78989474e-01,\n",
       "       6.31615789e-01, 6.84242105e-01, 7.36868421e-01, 7.89494737e-01,\n",
       "       8.42121053e-01, 8.94747368e-01, 9.47373684e-01, 1.00000000e+00])},\n",
       "             pre_dispatch='2*n_jobs', refit=True, return_train_score=False,\n",
       "             scoring=None, verbose=0)"
      ]
     },
     "execution_count": 248,
     "metadata": {},
     "output_type": "execute_result"
    }
   ],
   "source": [
    "svm_gs = GridSearchCV(svm, svm_params, cv=5)\n",
    "svm_gs.fit(xtrain_cv, y_train)"
   ]
  },
  {
   "cell_type": "markdown",
   "metadata": {},
   "source": [
    "##### Let's look for the best hyperparameter, 'C'"
   ]
  },
  {
   "cell_type": "code",
   "execution_count": 249,
   "metadata": {},
   "outputs": [
    {
     "data": {
      "text/plain": [
       "{'C': 0.10535263157894738}"
      ]
     },
     "execution_count": 249,
     "metadata": {},
     "output_type": "execute_result"
    }
   ],
   "source": [
    "svm_gs.best_params_"
   ]
  },
  {
   "cell_type": "code",
   "execution_count": 254,
   "metadata": {
    "scrolled": true
   },
   "outputs": [
    {
     "name": "stdout",
     "output_type": "stream",
     "text": [
      "GridSearchCV(cv=5, error_score=nan,\n",
      "             estimator=LinearSVC(C=1.0, class_weight=None, dual=True,\n",
      "                                 fit_intercept=True, intercept_scaling=1,\n",
      "                                 loss='squared_hinge', max_iter=1000,\n",
      "                                 multi_class='ovr', penalty='l2',\n",
      "                                 random_state=None, tol=0.0001, verbose=0),\n",
      "             iid='deprecated', n_jobs=None,\n",
      "             param_grid={'C': array([1.00000000e-04, 5.27263158e-02, 1.05352632e-01, 1.57978947e-01,\n",
      "       2.10605263e-01, 2.63231579e-01, 3.15857895e-01, 3.68484211e-01,\n",
      "       4.21110526e-01, 4.73736842e-01, 5.26363158e-01, 5.78989474e-01,\n",
      "       6.31615789e-01, 6.84242105e-01, 7.36868421e-01, 7.89494737e-01,\n",
      "       8.42121053e-01, 8.94747368e-01, 9.47373684e-01, 1.00000000e+00])},\n",
      "             pre_dispatch='2*n_jobs', refit=True, return_train_score=False,\n",
      "             scoring=None, verbose=0) test score: 0.96\n",
      "\n",
      "Accuracy: 0.964\n",
      "Sensitivity: 0.963\n",
      "Specificity: 0.965\n",
      "Precision: 0.965\n"
     ]
    }
   ],
   "source": [
    "score(svm_gs, xtrain_cv, y_train)"
   ]
  },
  {
   "cell_type": "markdown",
   "metadata": {},
   "source": [
    "The training scores look excellent!"
   ]
  },
  {
   "cell_type": "code",
   "execution_count": 255,
   "metadata": {
    "scrolled": true
   },
   "outputs": [
    {
     "name": "stdout",
     "output_type": "stream",
     "text": [
      "GridSearchCV(cv=5, error_score=nan,\n",
      "             estimator=LinearSVC(C=1.0, class_weight=None, dual=True,\n",
      "                                 fit_intercept=True, intercept_scaling=1,\n",
      "                                 loss='squared_hinge', max_iter=1000,\n",
      "                                 multi_class='ovr', penalty='l2',\n",
      "                                 random_state=None, tol=0.0001, verbose=0),\n",
      "             iid='deprecated', n_jobs=None,\n",
      "             param_grid={'C': array([1.00000000e-04, 5.27263158e-02, 1.05352632e-01, 1.57978947e-01,\n",
      "       2.10605263e-01, 2.63231579e-01, 3.15857895e-01, 3.68484211e-01,\n",
      "       4.21110526e-01, 4.73736842e-01, 5.26363158e-01, 5.78989474e-01,\n",
      "       6.31615789e-01, 6.84242105e-01, 7.36868421e-01, 7.89494737e-01,\n",
      "       8.42121053e-01, 8.94747368e-01, 9.47373684e-01, 1.00000000e+00])},\n",
      "             pre_dispatch='2*n_jobs', refit=True, return_train_score=False,\n",
      "             scoring=None, verbose=0) test score: 0.94\n",
      "\n",
      "Accuracy: 0.942\n",
      "Sensitivity: 0.94\n",
      "Specificity: 0.944\n",
      "Precision: 0.944\n"
     ]
    }
   ],
   "source": [
    "score(svm_gs, xtest_cv, y_test)"
   ]
  },
  {
   "cell_type": "markdown",
   "metadata": {},
   "source": [
    "##### Our testing scores look good, but not much better than logistic regression scores or MNB scores."
   ]
  },
  {
   "cell_type": "code",
   "execution_count": 262,
   "metadata": {
    "scrolled": true
   },
   "outputs": [
    {
     "name": "stdout",
     "output_type": "stream",
     "text": [
      "Pipeline(memory=None,\n",
      "         steps=[('cvec',\n",
      "                 CountVectorizer(analyzer='word', binary=False,\n",
      "                                 decode_error='strict',\n",
      "                                 dtype=<class 'numpy.int64'>, encoding='utf-8',\n",
      "                                 input='content', lowercase=True, max_df=1.0,\n",
      "                                 max_features=None, min_df=1,\n",
      "                                 ngram_range=(1, 1), preprocessor=None,\n",
      "                                 stop_words=None, strip_accents=None,\n",
      "                                 token_pattern='(?u)\\\\b\\\\w\\\\w+\\\\b',\n",
      "                                 tokenizer=None, vocabulary=None)),\n",
      "                ('svm',\n",
      "                 LinearSVC(C=0.1, class_weight=None, dual=True,\n",
      "                           fit_intercept=True, intercept_scaling=1,\n",
      "                           loss='squared_hinge', max_iter=1000,\n",
      "                           multi_class='ovr', penalty='l2', random_state=None,\n",
      "                           tol=0.0001, verbose=0))],\n",
      "         verbose=False) test score: 0.96\n",
      "\n",
      "Accuracy: 0.964\n",
      "Sensitivity: 0.963\n",
      "Specificity: 0.965\n",
      "Precision: 0.965\n"
     ]
    }
   ],
   "source": [
    "score(svm_pipe, X_train, y_train)"
   ]
  },
  {
   "cell_type": "code",
   "execution_count": 263,
   "metadata": {},
   "outputs": [
    {
     "name": "stdout",
     "output_type": "stream",
     "text": [
      "Pipeline(memory=None,\n",
      "         steps=[('cvec',\n",
      "                 CountVectorizer(analyzer='word', binary=False,\n",
      "                                 decode_error='strict',\n",
      "                                 dtype=<class 'numpy.int64'>, encoding='utf-8',\n",
      "                                 input='content', lowercase=True, max_df=1.0,\n",
      "                                 max_features=None, min_df=1,\n",
      "                                 ngram_range=(1, 1), preprocessor=None,\n",
      "                                 stop_words=None, strip_accents=None,\n",
      "                                 token_pattern='(?u)\\\\b\\\\w\\\\w+\\\\b',\n",
      "                                 tokenizer=None, vocabulary=None)),\n",
      "                ('svm',\n",
      "                 LinearSVC(C=0.1, class_weight=None, dual=True,\n",
      "                           fit_intercept=True, intercept_scaling=1,\n",
      "                           loss='squared_hinge', max_iter=1000,\n",
      "                           multi_class='ovr', penalty='l2', random_state=None,\n",
      "                           tol=0.0001, verbose=0))],\n",
      "         verbose=False) test score: 0.94\n",
      "\n",
      "Accuracy: 0.942\n",
      "Sensitivity: 0.94\n",
      "Specificity: 0.944\n",
      "Precision: 0.944\n"
     ]
    }
   ],
   "source": [
    "score(svm_pipe, X_test, y_test)"
   ]
  },
  {
   "cell_type": "markdown",
   "metadata": {},
   "source": [
    "## Voting Classifier\n",
    "##### Let's attempt to include the logistic regression, multinomial NB, and SVM models as they all scored very well."
   ]
  },
  {
   "cell_type": "code",
   "execution_count": 251,
   "metadata": {
    "scrolled": true
   },
   "outputs": [
    {
     "name": "stdout",
     "output_type": "stream",
     "text": [
      "CVEC Training Scores\n",
      "VotingClassifier(estimators=[('lr',\n",
      "                              LogisticRegression(C=1.0, class_weight=None,\n",
      "                                                 dual=False, fit_intercept=True,\n",
      "                                                 intercept_scaling=1,\n",
      "                                                 l1_ratio=None, max_iter=1000,\n",
      "                                                 multi_class='auto',\n",
      "                                                 n_jobs=None, penalty='l2',\n",
      "                                                 random_state=None,\n",
      "                                                 solver='lbfgs', tol=0.0001,\n",
      "                                                 verbose=0, warm_start=False)),\n",
      "                             ('mnb',\n",
      "                              MultinomialNB(alpha=1.0, class_prior=None,\n",
      "                                            fit_prior=True)),\n",
      "                             ('svm',\n",
      "                              LinearSVC(C=0.105, class_weight=None, dual=True,\n",
      "                                        fit_intercept=True, intercept_scaling=1,\n",
      "                                        loss='squared_hinge', max_iter=1000,\n",
      "                                        multi_class='ovr', penalty='l2',\n",
      "                                        random_state=None, tol=0.0001,\n",
      "                                        verbose=0))],\n",
      "                 flatten_transform=True, n_jobs=None, voting='hard',\n",
      "                 weights=None) test score: 0.96\n",
      "\n",
      "Accuracy: 0.963\n",
      "Sensitivity: 0.963\n",
      "Specificity: 0.964\n",
      "Precision: 0.964\n",
      "\n",
      "Test Scores\n",
      "VotingClassifier(estimators=[('lr',\n",
      "                              LogisticRegression(C=1.0, class_weight=None,\n",
      "                                                 dual=False, fit_intercept=True,\n",
      "                                                 intercept_scaling=1,\n",
      "                                                 l1_ratio=None, max_iter=1000,\n",
      "                                                 multi_class='auto',\n",
      "                                                 n_jobs=None, penalty='l2',\n",
      "                                                 random_state=None,\n",
      "                                                 solver='lbfgs', tol=0.0001,\n",
      "                                                 verbose=0, warm_start=False)),\n",
      "                             ('mnb',\n",
      "                              MultinomialNB(alpha=1.0, class_prior=None,\n",
      "                                            fit_prior=True)),\n",
      "                             ('svm',\n",
      "                              LinearSVC(C=0.105, class_weight=None, dual=True,\n",
      "                                        fit_intercept=True, intercept_scaling=1,\n",
      "                                        loss='squared_hinge', max_iter=1000,\n",
      "                                        multi_class='ovr', penalty='l2',\n",
      "                                        random_state=None, tol=0.0001,\n",
      "                                        verbose=0))],\n",
      "                 flatten_transform=True, n_jobs=None, voting='hard',\n",
      "                 weights=None) test score: 0.94\n",
      "\n",
      "Accuracy: 0.943\n",
      "Sensitivity: 0.941\n",
      "Specificity: 0.944\n",
      "Precision: 0.944\n",
      "TFIDF Training Scores\n",
      "VotingClassifier(estimators=[('lr',\n",
      "                              LogisticRegression(C=1.0, class_weight=None,\n",
      "                                                 dual=False, fit_intercept=True,\n",
      "                                                 intercept_scaling=1,\n",
      "                                                 l1_ratio=None, max_iter=1000,\n",
      "                                                 multi_class='auto',\n",
      "                                                 n_jobs=None, penalty='l2',\n",
      "                                                 random_state=None,\n",
      "                                                 solver='lbfgs', tol=0.0001,\n",
      "                                                 verbose=0, warm_start=False)),\n",
      "                             ('mnb',\n",
      "                              MultinomialNB(alpha=1.0, class_prior=None,\n",
      "                                            fit_prior=True)),\n",
      "                             ('svm',\n",
      "                              LinearSVC(C=0.105, class_weight=None, dual=True,\n",
      "                                        fit_intercept=True, intercept_scaling=1,\n",
      "                                        loss='squared_hinge', max_iter=1000,\n",
      "                                        multi_class='ovr', penalty='l2',\n",
      "                                        random_state=None, tol=0.0001,\n",
      "                                        verbose=0))],\n",
      "                 flatten_transform=True, n_jobs=None, voting='hard',\n",
      "                 weights=None) test score: 0.96\n",
      "\n",
      "Accuracy: 0.956\n",
      "Sensitivity: 0.953\n",
      "Specificity: 0.959\n",
      "Precision: 0.959\n",
      "\n",
      "Test Scores\n",
      "VotingClassifier(estimators=[('lr',\n",
      "                              LogisticRegression(C=1.0, class_weight=None,\n",
      "                                                 dual=False, fit_intercept=True,\n",
      "                                                 intercept_scaling=1,\n",
      "                                                 l1_ratio=None, max_iter=1000,\n",
      "                                                 multi_class='auto',\n",
      "                                                 n_jobs=None, penalty='l2',\n",
      "                                                 random_state=None,\n",
      "                                                 solver='lbfgs', tol=0.0001,\n",
      "                                                 verbose=0, warm_start=False)),\n",
      "                             ('mnb',\n",
      "                              MultinomialNB(alpha=1.0, class_prior=None,\n",
      "                                            fit_prior=True)),\n",
      "                             ('svm',\n",
      "                              LinearSVC(C=0.105, class_weight=None, dual=True,\n",
      "                                        fit_intercept=True, intercept_scaling=1,\n",
      "                                        loss='squared_hinge', max_iter=1000,\n",
      "                                        multi_class='ovr', penalty='l2',\n",
      "                                        random_state=None, tol=0.0001,\n",
      "                                        verbose=0))],\n",
      "                 flatten_transform=True, n_jobs=None, voting='hard',\n",
      "                 weights=None) test score: 0.94\n",
      "\n",
      "Accuracy: 0.942\n",
      "Sensitivity: 0.936\n",
      "Specificity: 0.947\n",
      "Precision: 0.946\n",
      "CPU times: user 1min 1s, sys: 3.91 s, total: 1min 5s\n",
      "Wall time: 15.6 s\n"
     ]
    }
   ],
   "source": [
    "%%time\n",
    "# Voting Classifier\n",
    "# CVEC and TFIDF instances\n",
    "voter_cv = VotingClassifier([\n",
    "            ('lr', LogisticRegression(solver='lbfgs', max_iter=1000)),\n",
    "            ('mnb', MultinomialNB()),\n",
    "            ('svm', LinearSVC(C=0.105))\n",
    "#             ('rf', RandomForestClassifier(n_estimators=100, max_depth=16, random_state=42)) \n",
    "])\n",
    "voter_tf = VotingClassifier([\n",
    "            ('lr', LogisticRegression(solver='lbfgs', max_iter=1000)),\n",
    "            ('mnb', MultinomialNB()),\n",
    "            ('svm', LinearSVC(C=0.105))\n",
    "#             ('rf', RandomForestClassifier(n_estimators=100, max_depth=16, random_state=42)) \n",
    "])\n",
    "\n",
    "# Fit both\n",
    "voter_cv.fit(xtrain_cv, y_train)\n",
    "voter_tf.fit(xtrain_tf, y_train)\n",
    "\n",
    "# metrics\n",
    "print('CVEC Training Scores')\n",
    "score(voter_cv, xtrain_cv, y_train)\n",
    "print('\\nTest Scores')\n",
    "score(voter_cv, xtest_cv, y_test)\n",
    "\n",
    "print('TFIDF Training Scores')\n",
    "score(voter_tf, xtrain_tf, y_train)\n",
    "print('\\nTest Scores')\n",
    "score(voter_tf, xtest_tf, y_test)"
   ]
  },
  {
   "cell_type": "markdown",
   "metadata": {},
   "source": [
    "##### Our Voting Classifier scored only marginally higher than each of these three models independently."
   ]
  },
  {
   "cell_type": "markdown",
   "metadata": {},
   "source": [
    "# 7. Conclusions and Selections"
   ]
  },
  {
   "cell_type": "markdown",
   "metadata": {},
   "source": [
    "### Vectorizers:\n",
    "We evaluated most models on both Count Vectorizer and Tfidf Vectorizer.\n",
    "\n",
    "Count Vectorizer generally scored better. If we had to pick one, we'd definitely pick Count Vectorizer.\n",
    "\n",
    "Tfidf Vectorizer was typically almost as accurate.\n",
    "    - Tfidf followed most of the same patterns\n",
    "    - This is particularly apparent in the Random Forest dissection"
   ]
  },
  {
   "cell_type": "markdown",
   "metadata": {},
   "source": [
    "### Model Evaluations\n",
    "\n",
    "Logistic Regression(Logreg):\n",
    "    - Scored very well\n",
    "    - Model runs quickly\n",
    "    - We can gather coefficients if needed\n",
    "    \n",
    "Random Forest(RF):\n",
    "    - Scored lower with current iterations\n",
    "    - Highly customizeable; further exploration could possibly yield better results\n",
    "    - Very computationally burdensome given 200,000 data points.\n",
    "\n",
    "Multinomial Naive-Bayes(MNB):\n",
    "    - Scored very well\n",
    "    - Model runs shockingly fast\n",
    "    \n",
    "Support Vector Model(SVM):\n",
    "    - Excellent score\n",
    "    - Model struggled with data size; significant computational power requried\n",
    "    - Further parameter optimization could improve results\n",
    "    - Cloud computing or other boosted computational methods could improve results\n",
    "    \n",
    "Voting Classifier:\n",
    "    - Nominally increased score\n",
    "    - Probably not worth the complexity\n",
    "    - Significant computational resources needed\n",
    "    - Possible improvements from improved RF or SVM models"
   ]
  },
  {
   "cell_type": "markdown",
   "metadata": {},
   "source": [
    "## Selections:\n",
    "\n",
    "#### Models:\n",
    "    1. Logistic Regression\n",
    "    2. Multinomial Naive-Bayes\n",
    "#### Vectorizers:\n",
    "    1. Count Vectorizer\n",
    "    \n",
    "\n",
    "##### These selections might not yield the greatest results when observing interactions between other subreddits."
   ]
  },
  {
   "cell_type": "markdown",
   "metadata": {},
   "source": [
    "# 8. Bonus: Word Lists"
   ]
  },
  {
   "cell_type": "code",
   "execution_count": 265,
   "metadata": {},
   "outputs": [],
   "source": [
    "# Get top words method adapted from: \n",
    "# https://www.kdnuggets.com/2019/05/complete-exploratory-data-analysis-visualization-text-data.html\n",
    "def get_top_n_words(corpus, n=None):\n",
    "    vec = CountVectorizer(stop_words='english').fit(corpus)\n",
    "    bag_of_words = vec.transform(corpus)\n",
    "    sum_words = bag_of_words.sum(axis=0) \n",
    "    words_freq = [(word, sum_words[0, idx]) for word, idx in vec.vocabulary_.items()]\n",
    "    words_freq = sorted(words_freq, key = lambda x: x[1], reverse=True)\n",
    "    return words_freq[:n]"
   ]
  },
  {
   "cell_type": "markdown",
   "metadata": {},
   "source": [
    "Set of high-frequency words found in r/Frugal:"
   ]
  },
  {
   "cell_type": "code",
   "execution_count": 275,
   "metadata": {
    "scrolled": true
   },
   "outputs": [
    {
     "data": {
      "text/plain": [
       "[('frugal', 10403),\n",
       " ('money', 6455),\n",
       " ('free', 5903),\n",
       " ('best', 5021),\n",
       " ('cheap', 4870),\n",
       " ('buy', 4654),\n",
       " ('save', 4561),\n",
       " ('car', 4271),\n",
       " ('new', 3865),\n",
       " ('need', 3792),\n",
       " ('way', 3324),\n",
       " ('help', 3210),\n",
       " ('good', 3195),\n",
       " ('tips', 3056),\n",
       " ('just', 2907),\n",
       " ('make', 2906),\n",
       " ('use', 2697),\n",
       " ('buying', 2508),\n",
       " ('food', 2459),\n",
       " ('advice', 2409),\n",
       " ('amazon', 2385),\n",
       " ('phone', 2343),\n",
       " ('time', 2306),\n",
       " ('looking', 2289),\n",
       " ('card', 2040),\n",
       " ('online', 2019),\n",
       " ('credit', 2002),\n",
       " ('home', 1999),\n",
       " ('10', 1897),\n",
       " ('price', 1856),\n",
       " ('year', 1853),\n",
       " ('don', 1821),\n",
       " ('budget', 1781),\n",
       " ('like', 1752),\n",
       " ('cheapest', 1665),\n",
       " ('saving', 1665),\n",
       " ('worth', 1656),\n",
       " ('insurance', 1631),\n",
       " ('month', 1606),\n",
       " ('amp', 1606),\n",
       " ('day', 1605),\n",
       " ('used', 1603),\n",
       " ('store', 1586),\n",
       " ('cost', 1516),\n",
       " ('know', 1510),\n",
       " ('does', 1501),\n",
       " ('want', 1472),\n",
       " ('gift', 1463),\n",
       " ('got', 1426),\n",
       " ('pay', 1412)]"
      ]
     },
     "execution_count": 275,
     "metadata": {},
     "output_type": "execute_result"
    }
   ],
   "source": [
    "frugal_words = get_top_n_words(frugal['title'],50)\n",
    "frugal_words"
   ]
  },
  {
   "cell_type": "markdown",
   "metadata": {},
   "source": [
    "Set of high-frequency words found in r/Investing:"
   ]
  },
  {
   "cell_type": "code",
   "execution_count": 276,
   "metadata": {
    "scrolled": true
   },
   "outputs": [
    {
     "data": {
      "text/plain": [
       "[('investing', 7483),\n",
       " ('stock', 7440),\n",
       " ('market', 6608),\n",
       " ('stocks', 5427),\n",
       " ('invest', 4811),\n",
       " ('buy', 3778),\n",
       " ('investment', 3395),\n",
       " ('advice', 3315),\n",
       " ('money', 2955),\n",
       " ('question', 2824),\n",
       " ('best', 2797),\n",
       " ('good', 2758),\n",
       " ('trading', 2596),\n",
       " ('funds', 2520),\n",
       " ('does', 2448),\n",
       " ('fund', 2400),\n",
       " ('amp', 2389),\n",
       " ('new', 2379),\n",
       " ('time', 2376),\n",
       " ('portfolio', 2339),\n",
       " ('etf', 2320),\n",
       " ('help', 2255),\n",
       " ('vs', 2224),\n",
       " ('long', 2140),\n",
       " ('thoughts', 2063),\n",
       " ('questions', 2056),\n",
       " ('company', 2045),\n",
       " ('index', 2014),\n",
       " ('year', 2009),\n",
       " ('just', 1875),\n",
       " ('looking', 1842),\n",
       " ('ira', 1841),\n",
       " ('term', 1836),\n",
       " ('companies', 1808),\n",
       " ('like', 1777),\n",
       " ('buying', 1644),\n",
       " ('account', 1621),\n",
       " ('etfs', 1619),\n",
       " ('price', 1553),\n",
       " ('trade', 1523),\n",
       " ('daily', 1512),\n",
       " ('options', 1504),\n",
       " ('sell', 1472),\n",
       " ('investors', 1460),\n",
       " ('roth', 1457),\n",
       " ('shares', 1446),\n",
       " ('today', 1445),\n",
       " ('make', 1444),\n",
       " ('years', 1439),\n",
       " ('vanguard', 1401)]"
      ]
     },
     "execution_count": 276,
     "metadata": {},
     "output_type": "execute_result"
    }
   ],
   "source": [
    "investing_words = get_top_n_words(investing['title'],50)\n",
    "investing_words"
   ]
  }
 ],
 "metadata": {
  "kernelspec": {
   "display_name": "Python 3",
   "language": "python",
   "name": "python3"
  },
  "language_info": {
   "codemirror_mode": {
    "name": "ipython",
    "version": 3
   },
   "file_extension": ".py",
   "mimetype": "text/x-python",
   "name": "python",
   "nbconvert_exporter": "python",
   "pygments_lexer": "ipython3",
   "version": "3.7.6"
  }
 },
 "nbformat": 4,
 "nbformat_minor": 4
}
